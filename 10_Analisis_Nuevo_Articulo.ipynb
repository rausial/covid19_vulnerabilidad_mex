{
 "cells": [
  {
   "cell_type": "markdown",
   "id": "82253ecb-4d7d-4340-a955-8be920777b74",
   "metadata": {},
   "source": [
    "# Artículo para Science of the Total Environment\n",
    "\n",
    "* Ajustar PCR\n",
    "* Ajustar PLS\n",
    "* Métricas de cross-validation\n",
    "\n",
    "**Idea general**\n",
    "\n",
    "Podemos hacer índices en diferentes momentos usando por lo menos dos métodos diferentes.\n",
    "\n",
    "* PLS\n",
    "* PCR\n",
    "\n",
    "Vamos a ajustar modelos con ambos métodos y compararlos a partir de su capacidad predictiva usando validaión cruzada. Vamos a probar cada método en dos escenarios diferentes, primero usando una selección muy pequeña de variables, inspirada directamente en Archarya y luego con una selección más amplia (pero de todas formas más chica que la que usamos originalmente). Con nestos dos escenarios tratamos de ver qué metodos es mejor para manejar nueva información que es seguramente muy colineal con la anterior."
   ]
  },
  {
   "cell_type": "code",
   "execution_count": null,
   "id": "9313cd63-5d83-4bf6-8a27-d719f28b35e0",
   "metadata": {},
   "outputs": [],
   "source": [
    "from ipywidgets import IntProgress\n",
    "from IPython.display import display\n",
    "import time\n",
    "\n",
    "from covid19_vulnerabilidad_mex.datos import *\n",
    "from covid19_vulnerabilidad_mex.vulnerabilidad import *\n",
    "\n",
    "import pandas as pd\n",
    "import geopandas as gpd\n",
    "\n",
    "import glob\n",
    "import os\n",
    "import matplotlib.pyplot as plt\n",
    "import numpy as np\n",
    "\n",
    "from datetime import timedelta\n",
    "import datetime\n",
    "from datetime import timedelta, date, datetime\n",
    "import pickle\n",
    "\n",
    "from sklearn.feature_selection import SelectKBest, chi2\n",
    "from sklearn.ensemble import RandomForestRegressor, RandomForestClassifier\n",
    "from sklearn.feature_selection import SelectFromModel\n",
    "from sklearn.cross_decomposition import PLSRegression\n",
    "\n",
    "import seaborn as sns\n",
    "import imageio\n",
    "from pygifsicle import optimize\n",
    "\n",
    "plt.style.use('ggplot')"
   ]
  },
  {
   "cell_type": "code",
   "execution_count": null,
   "id": "d1d81ba2-c83b-4a6a-a358-e761335b5a1c",
   "metadata": {},
   "outputs": [],
   "source": [
    "%load_ext autoreload\n",
    "%autoreload 2"
   ]
  },
  {
   "cell_type": "code",
   "execution_count": null,
   "id": "d6fe1303-a9a7-41df-953b-27fc83766b2f",
   "metadata": {},
   "outputs": [],
   "source": [
    "## Leemos datos y fijamos los parámetros generales\n",
    "antier = date.today() - timedelta(days=2)\n",
    "fecha_analisis = antier - timedelta(weeks=2)\n",
    "fecha_analisis = pd.to_datetime(fecha_analisis)\n",
    "inicio = pd.to_datetime('20-05-01', yearfirst=True)\n",
    "fin = antier - timedelta(days=7)\n",
    "metodo = 'PLS'\n",
    "ventana_dias = 28\n",
    "serie_municipal_base = pd.read_pickle(\"datos/nuevo_articulo/serie_municipal_base.pkl\")\n",
    "serie_municipal_extended = pd.read_pickle(\"datos/nuevo_articulo/serie_municipal_extended.pkl\")"
   ]
  },
  {
   "cell_type": "markdown",
   "id": "5efa539f-0c66-41aa-a78f-08a4cfef5d6f",
   "metadata": {},
   "source": [
    "## Regresión de Componentes Principales"
   ]
  },
  {
   "cell_type": "code",
   "execution_count": null,
   "id": "6fa3fa75-6f6b-479b-b2ce-3d52e97c8705",
   "metadata": {},
   "outputs": [
    {
     "data": {
      "text/plain": [
       "Index(['FECHA_INGRESO', 'ENTIDAD_RES', 'CLAVE_ENTIDAD_RES', 'MUNICIPIO_RES',\n",
       "       'CLAVE_MUNICIPIO_RES', 'RESULTADO', 'conteo', 'defunciones', 'geometry',\n",
       "       '60 and older', 'Disabled', 'Dwellers per room',\n",
       "       'Índice de rezago social', 'Poverty', 'Educational lag',\n",
       "       'Health access lag', 'Household characteristics lag',\n",
       "       'Basic services lag', 'Beds in public hospitals per (state) habitant',\n",
       "       'Beds in private hospitals per (state) habitant',\n",
       "       'Number of public hospitals per (state) habitant',\n",
       "       'People with hypertension', 'People with diabetes',\n",
       "       'People with obesity', 'Population density', 'Urbanization',\n",
       "       'Population', 'covid_confirmados_100k', 'covid_defun_100k',\n",
       "       'tasa_covid_letal'],\n",
       "      dtype='object')"
      ]
     },
     "execution_count": null,
     "metadata": {},
     "output_type": "execute_result"
    }
   ],
   "source": [
    "serie_municipal_base.columns"
   ]
  },
  {
   "cell_type": "code",
   "execution_count": null,
   "id": "6d34a20a-2b67-4364-8f7c-560de7a6797b",
   "metadata": {},
   "outputs": [],
   "source": []
  }
 ],
 "metadata": {
  "kernelspec": {
   "display_name": "Python 3",
   "language": "python",
   "name": "python3"
  }
 },
 "nbformat": 4,
 "nbformat_minor": 5
}
