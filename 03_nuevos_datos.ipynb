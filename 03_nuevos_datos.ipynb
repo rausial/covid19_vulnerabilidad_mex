{
 "cells": [
  {
   "cell_type": "code",
   "execution_count": null,
   "metadata": {},
   "outputs": [],
   "source": [
    "from ipywidgets import IntProgress\n",
    "from IPython.display import display\n",
    "import time\n",
    "\n",
    "import os\n",
    "import sys\n",
    "module_path = os.path.abspath(os.path.join('./covid_vulnerabilidad_mex'))\n",
    "if module_path not in sys.path:\n",
    "    sys.path.append(module_path)\n",
    "\n",
    "from covid19_vulnerabilidad_mex.datos import *\n",
    "from covid19_vulnerabilidad_mex.vulnerabilidad import *\n",
    "\n",
    "import pandas as pd\n",
    "import geopandas as gpd\n",
    "\n",
    "import glob\n",
    "import os\n",
    "import matplotlib.pyplot as plt\n",
    "import numpy as np\n",
    "\n",
    "from datetime import timedelta\n",
    "import datetime\n",
    "from datetime import timedelta, date, datetime\n",
    "\n",
    "from sklearn.feature_selection import SelectKBest, chi2\n",
    "from sklearn.ensemble import RandomForestRegressor, RandomForestClassifier\n",
    "from sklearn.feature_selection import SelectFromModel\n",
    "from sklearn.cross_decomposition import PLSRegression\n",
    "\n",
    "from pygifsicle import optimize\n",
    "from pathlib import Path\n"
   ]
  },
  {
   "cell_type": "code",
   "execution_count": null,
   "metadata": {},
   "outputs": [],
   "source": [
    "%load_ext autoreload\n",
    "%autoreload 2"
   ]
  },
  {
   "cell_type": "markdown",
   "metadata": {},
   "source": [
    "## Nuevos datos de comorbilidades\n",
    "\n",
    "Del trabajo de INEGI de estimación en áreas pequeñas"
   ]
  },
  {
   "cell_type": "code",
   "execution_count": null,
   "metadata": {},
   "outputs": [
    {
     "data": {
      "text/html": "<div>\n<style scoped>\n    .dataframe tbody tr th:only-of-type {\n        vertical-align: middle;\n    }\n\n    .dataframe tbody tr th {\n        vertical-align: top;\n    }\n\n    .dataframe thead th {\n        text-align: right;\n    }\n</style>\n<table border=\"1\" class=\"dataframe\">\n  <thead>\n    <tr style=\"text-align: right;\">\n      <th></th>\n      <th>cve_ent</th>\n      <th>cvegeo</th>\n      <th>pct_obesidad</th>\n      <th>pct_hipertension</th>\n      <th>pct_diabetes</th>\n    </tr>\n  </thead>\n  <tbody>\n    <tr>\n      <th>10</th>\n      <td>01</td>\n      <td>01001</td>\n      <td>31.486541</td>\n      <td>14.942242</td>\n      <td>7.495861</td>\n    </tr>\n    <tr>\n      <th>15</th>\n      <td>01</td>\n      <td>01002</td>\n      <td>32.282284</td>\n      <td>15.320425</td>\n      <td>7.953634</td>\n    </tr>\n    <tr>\n      <th>20</th>\n      <td>01</td>\n      <td>01003</td>\n      <td>40.004293</td>\n      <td>13.751906</td>\n      <td>9.172624</td>\n    </tr>\n    <tr>\n      <th>25</th>\n      <td>01</td>\n      <td>01004</td>\n      <td>32.596450</td>\n      <td>16.431493</td>\n      <td>7.383116</td>\n    </tr>\n    <tr>\n      <th>30</th>\n      <td>01</td>\n      <td>01005</td>\n      <td>34.731715</td>\n      <td>12.356755</td>\n      <td>6.745819</td>\n    </tr>\n    <tr>\n      <th>...</th>\n      <td>...</td>\n      <td>...</td>\n      <td>...</td>\n      <td>...</td>\n      <td>...</td>\n    </tr>\n    <tr>\n      <th>12425</th>\n      <td>32</td>\n      <td>32054</td>\n      <td>31.075955</td>\n      <td>16.920279</td>\n      <td>9.895491</td>\n    </tr>\n    <tr>\n      <th>12430</th>\n      <td>32</td>\n      <td>32055</td>\n      <td>30.526273</td>\n      <td>21.746589</td>\n      <td>12.050064</td>\n    </tr>\n    <tr>\n      <th>12435</th>\n      <td>32</td>\n      <td>32056</td>\n      <td>36.822130</td>\n      <td>20.010453</td>\n      <td>11.814172</td>\n    </tr>\n    <tr>\n      <th>12440</th>\n      <td>32</td>\n      <td>32057</td>\n      <td>32.477646</td>\n      <td>15.941678</td>\n      <td>8.089966</td>\n    </tr>\n    <tr>\n      <th>12445</th>\n      <td>32</td>\n      <td>32058</td>\n      <td>25.364136</td>\n      <td>21.230514</td>\n      <td>11.442311</td>\n    </tr>\n  </tbody>\n</table>\n<p>2457 rows × 5 columns</p>\n</div>",
      "text/plain": "      cve_ent cvegeo  pct_obesidad  pct_hipertension  pct_diabetes\n10         01  01001     31.486541         14.942242      7.495861\n15         01  01002     32.282284         15.320425      7.953634\n20         01  01003     40.004293         13.751906      9.172624\n25         01  01004     32.596450         16.431493      7.383116\n30         01  01005     34.731715         12.356755      6.745819\n...       ...    ...           ...               ...           ...\n12425      32  32054     31.075955         16.920279      9.895491\n12430      32  32055     30.526273         21.746589     12.050064\n12435      32  32056     36.822130         20.010453     11.814172\n12440      32  32057     32.477646         15.941678      8.089966\n12445      32  32058     25.364136         21.230514     11.442311\n\n[2457 rows x 5 columns]"
     },
     "execution_count": null,
     "metadata": {},
     "output_type": "execute_result"
    }
   ],
   "source": [
    "comorbilidades = pd.read_excel(\"datos/municipios/a_peq_prev_2018.xlsx\",\n",
    "                               engine='openpyxl',\n",
    "                               skiprows=2,\n",
    "                               nrows=12450,\n",
    "                               usecols='A:I',\n",
    "                               dtype={'Identificador único del municipio':str,\n",
    "                                      'Clave de entidad federativa':str,\n",
    "                                      'Clave de municipio o delegación':str}\n",
    "                            ).rename({'Identificador único del municipio': 'cvegeo',\n",
    "                                      'Porcentaje de población de 20 años y más con obesidad.':'pct_obesidad', \n",
    "                                      'Porcentaje de población de 20 años y más con diagnóstico previo de hipertensión.':'pct_hipertension',\n",
    "                                      'Porcentaje de población de 20 años y más con diagnóstico previo de diabetes.':'pct_diabetes',\n",
    "                                      'Clave de entidad federativa': 'cve_ent'},\n",
    "                                      axis=1)\n",
    "comorbilidades = comorbilidades[comorbilidades['Municipio o delegación'] != 'Total']\n",
    "comorbilidades = comorbilidades[comorbilidades['Estimador'] == 'Valor']\n",
    "comorbilidades = comorbilidades[['cve_ent', 'cvegeo', 'pct_obesidad', 'pct_hipertension', 'pct_diabetes']]\n",
    "comorbilidades\n"
   ]
  },
  {
   "cell_type": "code",
   "execution_count": null,
   "metadata": {},
   "outputs": [
    {
     "data": {
      "text/plain": "array(['01', '02', '03', '04', '05', '06', '07', '08', '09', '10', '11',\n       '12', '13', '14', '15', '16', '17', '18', '19', '20', '21', '22',\n       '23', '24', '25', '26', '27', '28', '29', '30', '31', '32'],\n      dtype=object)"
     },
     "execution_count": null,
     "metadata": {},
     "output_type": "execute_result"
    }
   ],
   "source": [
    "comorbilidades['cve_ent'].unique()"
   ]
  },
  {
   "cell_type": "code",
   "execution_count": null,
   "metadata": {},
   "outputs": [
    {
     "data": {
      "text/html": "<div>\n<style scoped>\n    .dataframe tbody tr th:only-of-type {\n        vertical-align: middle;\n    }\n\n    .dataframe tbody tr th {\n        vertical-align: top;\n    }\n\n    .dataframe thead th {\n        text-align: right;\n    }\n</style>\n<table border=\"1\" class=\"dataframe\">\n  <thead>\n    <tr style=\"text-align: right;\">\n      <th></th>\n      <th>cvegeo</th>\n      <th>nom_ent</th>\n      <th>pt_2015</th>\n      <th>an_2015</th>\n      <th>ne614_015</th>\n      <th>bi_2015</th>\n      <th>sins_15</th>\n      <th>vpt_2015</th>\n      <th>vns_2015</th>\n      <th>vna_2015</th>\n      <th>...</th>\n      <th>hospitales_sme</th>\n      <th>hospitales_semar</th>\n      <th>hospitales_sedena</th>\n      <th>hospitales_pemex</th>\n      <th>total_hospitales_publicos</th>\n      <th>total_camas_publicos</th>\n      <th>hospitales_privados</th>\n      <th>total_de_camas_privados</th>\n      <th>total_camas</th>\n      <th>pob2020</th>\n    </tr>\n  </thead>\n  <tbody>\n    <tr>\n      <th>0</th>\n      <td>01001</td>\n      <td>Aguascalientes</td>\n      <td>877190</td>\n      <td>2.0570</td>\n      <td>3.4786</td>\n      <td>25.6873</td>\n      <td>14.1560</td>\n      <td>0.5478</td>\n      <td>0.5543</td>\n      <td>0.6627</td>\n      <td>...</td>\n      <td>0</td>\n      <td>0</td>\n      <td>0</td>\n      <td>0</td>\n      <td>8</td>\n      <td>1228</td>\n      <td>17</td>\n      <td>43</td>\n      <td>1271</td>\n      <td>961977</td>\n    </tr>\n    <tr>\n      <th>1</th>\n      <td>01002</td>\n      <td>Aguascalientes</td>\n      <td>46464</td>\n      <td>4.4207</td>\n      <td>2.5959</td>\n      <td>41.8921</td>\n      <td>5.5355</td>\n      <td>1.6779</td>\n      <td>5.6457</td>\n      <td>1.2979</td>\n      <td>...</td>\n      <td>0</td>\n      <td>0</td>\n      <td>0</td>\n      <td>0</td>\n      <td>0</td>\n      <td>0</td>\n      <td>0</td>\n      <td>0</td>\n      <td>0</td>\n      <td>50864</td>\n    </tr>\n    <tr>\n      <th>2</th>\n      <td>01003</td>\n      <td>Aguascalientes</td>\n      <td>56048</td>\n      <td>4.7805</td>\n      <td>4.3906</td>\n      <td>49.1856</td>\n      <td>9.7524</td>\n      <td>1.0577</td>\n      <td>0.7756</td>\n      <td>0.9519</td>\n      <td>...</td>\n      <td>0</td>\n      <td>0</td>\n      <td>0</td>\n      <td>0</td>\n      <td>1</td>\n      <td>46</td>\n      <td>1</td>\n      <td>0</td>\n      <td>46</td>\n      <td>60760</td>\n    </tr>\n    <tr>\n      <th>3</th>\n      <td>01004</td>\n      <td>Aguascalientes</td>\n      <td>15577</td>\n      <td>4.3233</td>\n      <td>2.6265</td>\n      <td>33.0597</td>\n      <td>5.1165</td>\n      <td>1.5629</td>\n      <td>2.8986</td>\n      <td>0.5968</td>\n      <td>...</td>\n      <td>0</td>\n      <td>0</td>\n      <td>0</td>\n      <td>0</td>\n      <td>0</td>\n      <td>0</td>\n      <td>0</td>\n      <td>0</td>\n      <td>0</td>\n      <td>16918</td>\n    </tr>\n    <tr>\n      <th>4</th>\n      <td>01005</td>\n      <td>Aguascalientes</td>\n      <td>120405</td>\n      <td>3.2445</td>\n      <td>4.1297</td>\n      <td>33.7271</td>\n      <td>13.8341</td>\n      <td>0.9201</td>\n      <td>1.0273</td>\n      <td>0.9443</td>\n      <td>...</td>\n      <td>0</td>\n      <td>0</td>\n      <td>0</td>\n      <td>0</td>\n      <td>1</td>\n      <td>297</td>\n      <td>0</td>\n      <td>0</td>\n      <td>297</td>\n      <td>130184</td>\n    </tr>\n  </tbody>\n</table>\n<p>5 rows × 86 columns</p>\n</div>",
      "text/plain": "  cvegeo         nom_ent  pt_2015  an_2015  ne614_015  bi_2015  sins_15  \\\n0  01001  Aguascalientes   877190   2.0570     3.4786  25.6873  14.1560   \n1  01002  Aguascalientes    46464   4.4207     2.5959  41.8921   5.5355   \n2  01003  Aguascalientes    56048   4.7805     4.3906  49.1856   9.7524   \n3  01004  Aguascalientes    15577   4.3233     2.6265  33.0597   5.1165   \n4  01005  Aguascalientes   120405   3.2445     4.1297  33.7271  13.8341   \n\n   vpt_2015  vns_2015  vna_2015  ...  hospitales_sme  hospitales_semar  \\\n0    0.5478    0.5543    0.6627  ...               0                 0   \n1    1.6779    5.6457    1.2979  ...               0                 0   \n2    1.0577    0.7756    0.9519  ...               0                 0   \n3    1.5629    2.8986    0.5968  ...               0                 0   \n4    0.9201    1.0273    0.9443  ...               0                 0   \n\n   hospitales_sedena  hospitales_pemex  total_hospitales_publicos  \\\n0                  0                 0                          8   \n1                  0                 0                          0   \n2                  0                 0                          1   \n3                  0                 0                          0   \n4                  0                 0                          1   \n\n  total_camas_publicos  hospitales_privados  total_de_camas_privados  \\\n0                 1228                   17                       43   \n1                    0                    0                        0   \n2                   46                    1                        0   \n3                    0                    0                        0   \n4                  297                    0                        0   \n\n   total_camas  pob2020  \n0         1271   961977  \n1            0    50864  \n2           46    60760  \n3            0    16918  \n4          297   130184  \n\n[5 rows x 86 columns]"
     },
     "execution_count": null,
     "metadata": {},
     "output_type": "execute_result"
    }
   ],
   "source": [
    "variables_municipales = pd.read_csv('datos/municipios/indicadores_original.csv', index_col=False,\n",
    "                                    dtype={'cvegeo': str, 'entidad_cv': str,\n",
    "                                            'municipio_cvegeo': str, 'entidad_cvegeo': str},\n",
    "                                    encoding='iso8859_2')\n",
    "arregla_cvegeo(variables_municipales)\n",
    "variables_municipales.head()"
   ]
  },
  {
   "cell_type": "code",
   "execution_count": null,
   "metadata": {},
   "outputs": [
    {
     "data": {
      "text/plain": "Index(['cvegeo', 'nom_ent', 'pt_2015', 'an_2015', 'ne614_015', 'bi_2015',\n       'sins_15', 'vpt_2015', 'vns_2015', 'vna_2015', 'vnd_2015', 'vne_2015',\n       'vnl_2015', 'vnr_2015', 'irs_2015', 'grs_2015', 'lmex_2015',\n       'poblacion', 'pobreza', 'pobreza_pob', 'pobreza_e', 'pobreza_e_pob',\n       'pobreza_m', 'pobreza_m_pob', 'vul_car', 'vul_car_pob', 'vul_ing',\n       'vul_ing_pob', 'npnv', 'npnv_pob', 'ic_rezedu', 'ic_rezedu_pob',\n       'ic_asalud', 'ic_asalud_pob', 'ic_segsoc', 'ic_segsoc_pob', 'ic_cv',\n       'ic_cv_pob', 'ic_sbv', 'ic_sbv_pob', 'ic_ali', 'ic_ali_pob',\n       'carencias', 'carencias_pob', 'carencias3', 'carencias3_pob', 'plb',\n       'plb_pob', 'plbm', 'plbm_pob', 'pob_total', 'mayores_65', 'pob_menore',\n       'sin_derech', 'sin_dere_1', 'entidad_cv', 'consultori', 'consulto_1',\n       'farmacias', 'id', 'municipio_cvegeo', 'nom_mun', 'porc_carencia_salud',\n       'entidad_cvegeo', 'pob01', 'tasa_diabetes', 'tasa_cardiacas',\n       'tasa_cancer', 'tasa_pulmonares', 'grado_diabetes', 'grado_cardiacas',\n       'grado_cancer', 'grado_pulmonares', 'hospitales_imss',\n       'hospitales_issste', 'hospitales_ssa', 'hospitales_sme',\n       'hospitales_semar', 'hospitales_sedena', 'hospitales_pemex',\n       'total_hospitales_publicos', 'total_camas_publicos',\n       'hospitales_privados', 'total_de_camas_privados', 'total_camas',\n       'pob2020'],\n      dtype='object')"
     },
     "execution_count": null,
     "metadata": {},
     "output_type": "execute_result"
    }
   ],
   "source": [
    "variables_municipales.columns"
   ]
  },
  {
   "cell_type": "code",
   "execution_count": null,
   "metadata": {},
   "outputs": [
    {
     "data": {
      "text/html": "<div>\n<style scoped>\n    .dataframe tbody tr th:only-of-type {\n        vertical-align: middle;\n    }\n\n    .dataframe tbody tr th {\n        vertical-align: top;\n    }\n\n    .dataframe thead th {\n        text-align: right;\n    }\n</style>\n<table border=\"1\" class=\"dataframe\">\n  <thead>\n    <tr style=\"text-align: right;\">\n      <th></th>\n      <th>cvegeo</th>\n      <th>nom_ent</th>\n      <th>pt_2015</th>\n      <th>an_2015</th>\n      <th>ne614_015</th>\n      <th>bi_2015</th>\n      <th>sins_15</th>\n      <th>vpt_2015</th>\n      <th>vns_2015</th>\n      <th>vna_2015</th>\n      <th>...</th>\n      <th>total_hospitales_publicos</th>\n      <th>total_camas_publicos</th>\n      <th>hospitales_privados</th>\n      <th>total_de_camas_privados</th>\n      <th>total_camas</th>\n      <th>pob2020</th>\n      <th>cve_ent</th>\n      <th>pct_obesidad</th>\n      <th>pct_hipertension</th>\n      <th>pct_diabetes</th>\n    </tr>\n  </thead>\n  <tbody>\n    <tr>\n      <th>0</th>\n      <td>01001</td>\n      <td>Aguascalientes</td>\n      <td>877190</td>\n      <td>2.0570</td>\n      <td>3.4786</td>\n      <td>25.6873</td>\n      <td>14.1560</td>\n      <td>0.5478</td>\n      <td>0.5543</td>\n      <td>0.6627</td>\n      <td>...</td>\n      <td>8</td>\n      <td>1228</td>\n      <td>17</td>\n      <td>43</td>\n      <td>1271</td>\n      <td>961977</td>\n      <td>01</td>\n      <td>31.486541</td>\n      <td>14.942242</td>\n      <td>7.495861</td>\n    </tr>\n    <tr>\n      <th>1</th>\n      <td>01002</td>\n      <td>Aguascalientes</td>\n      <td>46464</td>\n      <td>4.4207</td>\n      <td>2.5959</td>\n      <td>41.8921</td>\n      <td>5.5355</td>\n      <td>1.6779</td>\n      <td>5.6457</td>\n      <td>1.2979</td>\n      <td>...</td>\n      <td>0</td>\n      <td>0</td>\n      <td>0</td>\n      <td>0</td>\n      <td>0</td>\n      <td>50864</td>\n      <td>01</td>\n      <td>32.282284</td>\n      <td>15.320425</td>\n      <td>7.953634</td>\n    </tr>\n    <tr>\n      <th>2</th>\n      <td>01003</td>\n      <td>Aguascalientes</td>\n      <td>56048</td>\n      <td>4.7805</td>\n      <td>4.3906</td>\n      <td>49.1856</td>\n      <td>9.7524</td>\n      <td>1.0577</td>\n      <td>0.7756</td>\n      <td>0.9519</td>\n      <td>...</td>\n      <td>1</td>\n      <td>46</td>\n      <td>1</td>\n      <td>0</td>\n      <td>46</td>\n      <td>60760</td>\n      <td>01</td>\n      <td>40.004293</td>\n      <td>13.751906</td>\n      <td>9.172624</td>\n    </tr>\n    <tr>\n      <th>3</th>\n      <td>01004</td>\n      <td>Aguascalientes</td>\n      <td>15577</td>\n      <td>4.3233</td>\n      <td>2.6265</td>\n      <td>33.0597</td>\n      <td>5.1165</td>\n      <td>1.5629</td>\n      <td>2.8986</td>\n      <td>0.5968</td>\n      <td>...</td>\n      <td>0</td>\n      <td>0</td>\n      <td>0</td>\n      <td>0</td>\n      <td>0</td>\n      <td>16918</td>\n      <td>01</td>\n      <td>32.596450</td>\n      <td>16.431493</td>\n      <td>7.383116</td>\n    </tr>\n    <tr>\n      <th>4</th>\n      <td>01005</td>\n      <td>Aguascalientes</td>\n      <td>120405</td>\n      <td>3.2445</td>\n      <td>4.1297</td>\n      <td>33.7271</td>\n      <td>13.8341</td>\n      <td>0.9201</td>\n      <td>1.0273</td>\n      <td>0.9443</td>\n      <td>...</td>\n      <td>1</td>\n      <td>297</td>\n      <td>0</td>\n      <td>0</td>\n      <td>297</td>\n      <td>130184</td>\n      <td>01</td>\n      <td>34.731715</td>\n      <td>12.356755</td>\n      <td>6.745819</td>\n    </tr>\n    <tr>\n      <th>...</th>\n      <td>...</td>\n      <td>...</td>\n      <td>...</td>\n      <td>...</td>\n      <td>...</td>\n      <td>...</td>\n      <td>...</td>\n      <td>...</td>\n      <td>...</td>\n      <td>...</td>\n      <td>...</td>\n      <td>...</td>\n      <td>...</td>\n      <td>...</td>\n      <td>...</td>\n      <td>...</td>\n      <td>...</td>\n      <td>...</td>\n      <td>...</td>\n      <td>...</td>\n      <td>...</td>\n    </tr>\n    <tr>\n      <th>2452</th>\n      <td>32054</td>\n      <td>Zacatecas</td>\n      <td>19155</td>\n      <td>8.1332</td>\n      <td>3.6565</td>\n      <td>42.1699</td>\n      <td>8.8384</td>\n      <td>2.5438</td>\n      <td>8.9568</td>\n      <td>3.8478</td>\n      <td>...</td>\n      <td>0</td>\n      <td>0</td>\n      <td>0</td>\n      <td>0</td>\n      <td>0</td>\n      <td>20177</td>\n      <td>32</td>\n      <td>31.075955</td>\n      <td>16.920279</td>\n      <td>9.895491</td>\n    </tr>\n    <tr>\n      <th>2453</th>\n      <td>32055</td>\n      <td>Zacatecas</td>\n      <td>30240</td>\n      <td>4.7985</td>\n      <td>3.4198</td>\n      <td>53.7212</td>\n      <td>13.5516</td>\n      <td>0.9201</td>\n      <td>4.8484</td>\n      <td>1.7459</td>\n      <td>...</td>\n      <td>1</td>\n      <td>22</td>\n      <td>1</td>\n      <td>0</td>\n      <td>22</td>\n      <td>31804</td>\n      <td>32</td>\n      <td>30.526273</td>\n      <td>21.746589</td>\n      <td>12.050064</td>\n    </tr>\n    <tr>\n      <th>2454</th>\n      <td>32056</td>\n      <td>Zacatecas</td>\n      <td>146147</td>\n      <td>1.2432</td>\n      <td>2.1746</td>\n      <td>23.0304</td>\n      <td>14.0968</td>\n      <td>0.2485</td>\n      <td>1.2004</td>\n      <td>1.6826</td>\n      <td>...</td>\n      <td>3</td>\n      <td>337</td>\n      <td>5</td>\n      <td>0</td>\n      <td>337</td>\n      <td>155533</td>\n      <td>32</td>\n      <td>36.822130</td>\n      <td>20.010453</td>\n      <td>11.814172</td>\n    </tr>\n    <tr>\n      <th>2455</th>\n      <td>32057</td>\n      <td>Zacatecas</td>\n      <td>19413</td>\n      <td>5.6122</td>\n      <td>2.5997</td>\n      <td>42.0488</td>\n      <td>9.0609</td>\n      <td>1.1950</td>\n      <td>6.9448</td>\n      <td>3.0891</td>\n      <td>...</td>\n      <td>1</td>\n      <td>12</td>\n      <td>0</td>\n      <td>0</td>\n      <td>12</td>\n      <td>20285</td>\n      <td>32</td>\n      <td>32.477646</td>\n      <td>15.941678</td>\n      <td>8.089966</td>\n    </tr>\n    <tr>\n      <th>2456</th>\n      <td>32058</td>\n      <td>Zacatecas</td>\n      <td>2656</td>\n      <td>5.3388</td>\n      <td>1.2563</td>\n      <td>50.6674</td>\n      <td>20.5196</td>\n      <td>3.9949</td>\n      <td>4.3814</td>\n      <td>1.2887</td>\n      <td>...</td>\n      <td>0</td>\n      <td>0</td>\n      <td>0</td>\n      <td>0</td>\n      <td>0</td>\n      <td>2855</td>\n      <td>32</td>\n      <td>25.364136</td>\n      <td>21.230514</td>\n      <td>11.442311</td>\n    </tr>\n  </tbody>\n</table>\n<p>2457 rows × 82 columns</p>\n</div>",
      "text/plain": "     cvegeo         nom_ent  pt_2015  an_2015  ne614_015  bi_2015  sins_15  \\\n0     01001  Aguascalientes   877190   2.0570     3.4786  25.6873  14.1560   \n1     01002  Aguascalientes    46464   4.4207     2.5959  41.8921   5.5355   \n2     01003  Aguascalientes    56048   4.7805     4.3906  49.1856   9.7524   \n3     01004  Aguascalientes    15577   4.3233     2.6265  33.0597   5.1165   \n4     01005  Aguascalientes   120405   3.2445     4.1297  33.7271  13.8341   \n...     ...             ...      ...      ...        ...      ...      ...   \n2452  32054       Zacatecas    19155   8.1332     3.6565  42.1699   8.8384   \n2453  32055       Zacatecas    30240   4.7985     3.4198  53.7212  13.5516   \n2454  32056       Zacatecas   146147   1.2432     2.1746  23.0304  14.0968   \n2455  32057       Zacatecas    19413   5.6122     2.5997  42.0488   9.0609   \n2456  32058       Zacatecas     2656   5.3388     1.2563  50.6674  20.5196   \n\n      vpt_2015  vns_2015  vna_2015  ...  total_hospitales_publicos  \\\n0       0.5478    0.5543    0.6627  ...                          8   \n1       1.6779    5.6457    1.2979  ...                          0   \n2       1.0577    0.7756    0.9519  ...                          1   \n3       1.5629    2.8986    0.5968  ...                          0   \n4       0.9201    1.0273    0.9443  ...                          1   \n...        ...       ...       ...  ...                        ...   \n2452    2.5438    8.9568    3.8478  ...                          0   \n2453    0.9201    4.8484    1.7459  ...                          1   \n2454    0.2485    1.2004    1.6826  ...                          3   \n2455    1.1950    6.9448    3.0891  ...                          1   \n2456    3.9949    4.3814    1.2887  ...                          0   \n\n      total_camas_publicos  hospitales_privados  total_de_camas_privados  \\\n0                     1228                   17                       43   \n1                        0                    0                        0   \n2                       46                    1                        0   \n3                        0                    0                        0   \n4                      297                    0                        0   \n...                    ...                  ...                      ...   \n2452                     0                    0                        0   \n2453                    22                    1                        0   \n2454                   337                    5                        0   \n2455                    12                    0                        0   \n2456                     0                    0                        0   \n\n      total_camas pob2020  cve_ent  pct_obesidad  pct_hipertension  \\\n0            1271  961977       01     31.486541         14.942242   \n1               0   50864       01     32.282284         15.320425   \n2              46   60760       01     40.004293         13.751906   \n3               0   16918       01     32.596450         16.431493   \n4             297  130184       01     34.731715         12.356755   \n...           ...     ...      ...           ...               ...   \n2452            0   20177       32     31.075955         16.920279   \n2453           22   31804       32     30.526273         21.746589   \n2454          337  155533       32     36.822130         20.010453   \n2455           12   20285       32     32.477646         15.941678   \n2456            0    2855       32     25.364136         21.230514   \n\n      pct_diabetes  \n0         7.495861  \n1         7.953634  \n2         9.172624  \n3         7.383116  \n4         6.745819  \n...            ...  \n2452      9.895491  \n2453     12.050064  \n2454     11.814172  \n2455      8.089966  \n2456     11.442311  \n\n[2457 rows x 82 columns]"
     },
     "execution_count": null,
     "metadata": {},
     "output_type": "execute_result"
    }
   ],
   "source": [
    "variables_nuevas = variables_municipales.merge(comorbilidades, on='cvegeo')\n",
    "variables_nuevas.drop(columns=[c for c in variables_nuevas.columns if (c.startswith('grado') or c.startswith('tasa'))], inplace=True)\n",
    "variables_nuevas"
   ]
  },
  {
   "cell_type": "code",
   "execution_count": null,
   "metadata": {},
   "outputs": [
    {
     "data": {
      "text/plain": "Index(['cvegeo', 'nom_ent', 'pt_2015', 'an_2015', 'ne614_015', 'bi_2015',\n       'sins_15', 'vpt_2015', 'vns_2015', 'vna_2015', 'vnd_2015', 'vne_2015',\n       'vnl_2015', 'vnr_2015', 'irs_2015', 'grs_2015', 'lmex_2015',\n       'poblacion', 'pobreza', 'pobreza_pob', 'pobreza_e', 'pobreza_e_pob',\n       'pobreza_m', 'pobreza_m_pob', 'vul_car', 'vul_car_pob', 'vul_ing',\n       'vul_ing_pob', 'npnv', 'npnv_pob', 'ic_rezedu', 'ic_rezedu_pob',\n       'ic_asalud', 'ic_asalud_pob', 'ic_segsoc', 'ic_segsoc_pob', 'ic_cv',\n       'ic_cv_pob', 'ic_sbv', 'ic_sbv_pob', 'ic_ali', 'ic_ali_pob',\n       'carencias', 'carencias_pob', 'carencias3', 'carencias3_pob', 'plb',\n       'plb_pob', 'plbm', 'plbm_pob', 'pob_total', 'mayores_65', 'pob_menore',\n       'sin_derech', 'sin_dere_1', 'entidad_cv', 'consultori', 'consulto_1',\n       'farmacias', 'id', 'municipio_cvegeo', 'nom_mun', 'porc_carencia_salud',\n       'entidad_cvegeo', 'pob01', 'hospitales_imss', 'hospitales_issste',\n       'hospitales_ssa', 'hospitales_sme', 'hospitales_semar',\n       'hospitales_sedena', 'hospitales_pemex', 'total_hospitales_publicos',\n       'total_camas_publicos', 'hospitales_privados',\n       'total_de_camas_privados', 'total_camas', 'pob2020', 'pct_obesidad',\n       'pct_hipertension', 'pct_diabetes'],\n      dtype='object')"
     },
     "execution_count": null,
     "metadata": {},
     "output_type": "execute_result"
    }
   ],
   "source": [
    "variables_nuevas.columns"
   ]
  },
  {
   "cell_type": "markdown",
   "metadata": {},
   "source": [
    "## Nuevas variables de hospitales\n",
    "\n",
    "* Eliminar división por sector (isste, imss, etc)\n",
    "* Sólo: total_hospitales_publicos y privados y los respectivos números de camas\n",
    "* Agregados por estado porque no tiene mucho sentido por municipio\n",
    "* Las camas de hospitales privados creo que tienen mucho error, las voy a eliminar"
   ]
  },
  {
   "cell_type": "code",
   "execution_count": null,
   "metadata": {},
   "outputs": [
    {
     "data": {
      "text/html": "<div>\n<style scoped>\n    .dataframe tbody tr th:only-of-type {\n        vertical-align: middle;\n    }\n\n    .dataframe tbody tr th {\n        vertical-align: top;\n    }\n\n    .dataframe thead th {\n        text-align: right;\n    }\n</style>\n<table border=\"1\" class=\"dataframe\">\n  <thead>\n    <tr style=\"text-align: right;\">\n      <th></th>\n      <th>cvegeo</th>\n      <th>nom_ent</th>\n      <th>pt_2015</th>\n      <th>an_2015</th>\n      <th>ne614_015</th>\n      <th>bi_2015</th>\n      <th>sins_15</th>\n      <th>vpt_2015</th>\n      <th>vns_2015</th>\n      <th>vna_2015</th>\n      <th>...</th>\n      <th>pob01</th>\n      <th>pob2020</th>\n      <th>cve_ent</th>\n      <th>pct_obesidad</th>\n      <th>pct_hipertension</th>\n      <th>pct_diabetes</th>\n      <th>total_camas_publicos</th>\n      <th>total_camas_privados</th>\n      <th>total_hospitales_publicos</th>\n      <th>total_hospitales_privados</th>\n    </tr>\n  </thead>\n  <tbody>\n    <tr>\n      <th>0</th>\n      <td>01001</td>\n      <td>Aguascalientes</td>\n      <td>877190</td>\n      <td>2.0570</td>\n      <td>3.4786</td>\n      <td>25.6873</td>\n      <td>14.1560</td>\n      <td>0.5478</td>\n      <td>0.5543</td>\n      <td>0.6627</td>\n      <td>...</td>\n      <td>797010</td>\n      <td>961977</td>\n      <td>01</td>\n      <td>31.486541</td>\n      <td>14.942242</td>\n      <td>7.495861</td>\n      <td>1656</td>\n      <td>43</td>\n      <td>12</td>\n      <td>20</td>\n    </tr>\n    <tr>\n      <th>1</th>\n      <td>01002</td>\n      <td>Aguascalientes</td>\n      <td>46464</td>\n      <td>4.4207</td>\n      <td>2.5959</td>\n      <td>41.8921</td>\n      <td>5.5355</td>\n      <td>1.6779</td>\n      <td>5.6457</td>\n      <td>1.2979</td>\n      <td>...</td>\n      <td>45492</td>\n      <td>50864</td>\n      <td>01</td>\n      <td>32.282284</td>\n      <td>15.320425</td>\n      <td>7.953634</td>\n      <td>1656</td>\n      <td>43</td>\n      <td>12</td>\n      <td>20</td>\n    </tr>\n    <tr>\n      <th>2</th>\n      <td>01003</td>\n      <td>Aguascalientes</td>\n      <td>56048</td>\n      <td>4.7805</td>\n      <td>4.3906</td>\n      <td>49.1856</td>\n      <td>9.7524</td>\n      <td>1.0577</td>\n      <td>0.7756</td>\n      <td>0.9519</td>\n      <td>...</td>\n      <td>54136</td>\n      <td>60760</td>\n      <td>01</td>\n      <td>40.004293</td>\n      <td>13.751906</td>\n      <td>9.172624</td>\n      <td>1656</td>\n      <td>43</td>\n      <td>12</td>\n      <td>20</td>\n    </tr>\n    <tr>\n      <th>3</th>\n      <td>01004</td>\n      <td>Aguascalientes</td>\n      <td>15577</td>\n      <td>4.3233</td>\n      <td>2.6265</td>\n      <td>33.0597</td>\n      <td>5.1165</td>\n      <td>1.5629</td>\n      <td>2.8986</td>\n      <td>0.5968</td>\n      <td>...</td>\n      <td>15042</td>\n      <td>16918</td>\n      <td>01</td>\n      <td>32.596450</td>\n      <td>16.431493</td>\n      <td>7.383116</td>\n      <td>1656</td>\n      <td>43</td>\n      <td>12</td>\n      <td>20</td>\n    </tr>\n    <tr>\n      <th>4</th>\n      <td>01005</td>\n      <td>Aguascalientes</td>\n      <td>120405</td>\n      <td>3.2445</td>\n      <td>4.1297</td>\n      <td>33.7271</td>\n      <td>13.8341</td>\n      <td>0.9201</td>\n      <td>1.0273</td>\n      <td>0.9443</td>\n      <td>...</td>\n      <td>99590</td>\n      <td>130184</td>\n      <td>01</td>\n      <td>34.731715</td>\n      <td>12.356755</td>\n      <td>6.745819</td>\n      <td>1656</td>\n      <td>43</td>\n      <td>12</td>\n      <td>20</td>\n    </tr>\n    <tr>\n      <th>...</th>\n      <td>...</td>\n      <td>...</td>\n      <td>...</td>\n      <td>...</td>\n      <td>...</td>\n      <td>...</td>\n      <td>...</td>\n      <td>...</td>\n      <td>...</td>\n      <td>...</td>\n      <td>...</td>\n      <td>...</td>\n      <td>...</td>\n      <td>...</td>\n      <td>...</td>\n      <td>...</td>\n      <td>...</td>\n      <td>...</td>\n      <td>...</td>\n      <td>...</td>\n      <td>...</td>\n    </tr>\n    <tr>\n      <th>2452</th>\n      <td>32054</td>\n      <td>Zacatecas</td>\n      <td>19155</td>\n      <td>8.1332</td>\n      <td>3.6565</td>\n      <td>42.1699</td>\n      <td>8.8384</td>\n      <td>2.5438</td>\n      <td>8.9568</td>\n      <td>3.8478</td>\n      <td>...</td>\n      <td>18490</td>\n      <td>20177</td>\n      <td>32</td>\n      <td>31.075955</td>\n      <td>16.920279</td>\n      <td>9.895491</td>\n      <td>1122</td>\n      <td>0</td>\n      <td>29</td>\n      <td>49</td>\n    </tr>\n    <tr>\n      <th>2453</th>\n      <td>32055</td>\n      <td>Zacatecas</td>\n      <td>30240</td>\n      <td>4.7985</td>\n      <td>3.4198</td>\n      <td>53.7212</td>\n      <td>13.5516</td>\n      <td>0.9201</td>\n      <td>4.8484</td>\n      <td>1.7459</td>\n      <td>...</td>\n      <td>29395</td>\n      <td>31804</td>\n      <td>32</td>\n      <td>30.526273</td>\n      <td>21.746589</td>\n      <td>12.050064</td>\n      <td>1122</td>\n      <td>0</td>\n      <td>29</td>\n      <td>49</td>\n    </tr>\n    <tr>\n      <th>2454</th>\n      <td>32056</td>\n      <td>Zacatecas</td>\n      <td>146147</td>\n      <td>1.2432</td>\n      <td>2.1746</td>\n      <td>23.0304</td>\n      <td>14.0968</td>\n      <td>0.2485</td>\n      <td>1.2004</td>\n      <td>1.6826</td>\n      <td>...</td>\n      <td>138176</td>\n      <td>155533</td>\n      <td>32</td>\n      <td>36.822130</td>\n      <td>20.010453</td>\n      <td>11.814172</td>\n      <td>1122</td>\n      <td>0</td>\n      <td>29</td>\n      <td>49</td>\n    </tr>\n    <tr>\n      <th>2455</th>\n      <td>32057</td>\n      <td>Zacatecas</td>\n      <td>19413</td>\n      <td>5.6122</td>\n      <td>2.5997</td>\n      <td>42.0488</td>\n      <td>9.0609</td>\n      <td>1.1950</td>\n      <td>6.9448</td>\n      <td>3.0891</td>\n      <td>...</td>\n      <td>16934</td>\n      <td>20285</td>\n      <td>32</td>\n      <td>32.477646</td>\n      <td>15.941678</td>\n      <td>8.089966</td>\n      <td>1122</td>\n      <td>0</td>\n      <td>29</td>\n      <td>49</td>\n    </tr>\n    <tr>\n      <th>2456</th>\n      <td>32058</td>\n      <td>Zacatecas</td>\n      <td>2656</td>\n      <td>5.3388</td>\n      <td>1.2563</td>\n      <td>50.6674</td>\n      <td>20.5196</td>\n      <td>3.9949</td>\n      <td>4.3814</td>\n      <td>1.2887</td>\n      <td>...</td>\n      <td>2821</td>\n      <td>2855</td>\n      <td>32</td>\n      <td>25.364136</td>\n      <td>21.230514</td>\n      <td>11.442311</td>\n      <td>1122</td>\n      <td>0</td>\n      <td>29</td>\n      <td>49</td>\n    </tr>\n  </tbody>\n</table>\n<p>2457 rows × 74 columns</p>\n</div>",
      "text/plain": "     cvegeo         nom_ent  pt_2015  an_2015  ne614_015  bi_2015  sins_15  \\\n0     01001  Aguascalientes   877190   2.0570     3.4786  25.6873  14.1560   \n1     01002  Aguascalientes    46464   4.4207     2.5959  41.8921   5.5355   \n2     01003  Aguascalientes    56048   4.7805     4.3906  49.1856   9.7524   \n3     01004  Aguascalientes    15577   4.3233     2.6265  33.0597   5.1165   \n4     01005  Aguascalientes   120405   3.2445     4.1297  33.7271  13.8341   \n...     ...             ...      ...      ...        ...      ...      ...   \n2452  32054       Zacatecas    19155   8.1332     3.6565  42.1699   8.8384   \n2453  32055       Zacatecas    30240   4.7985     3.4198  53.7212  13.5516   \n2454  32056       Zacatecas   146147   1.2432     2.1746  23.0304  14.0968   \n2455  32057       Zacatecas    19413   5.6122     2.5997  42.0488   9.0609   \n2456  32058       Zacatecas     2656   5.3388     1.2563  50.6674  20.5196   \n\n      vpt_2015  vns_2015  vna_2015  ...   pob01  pob2020  cve_ent  \\\n0       0.5478    0.5543    0.6627  ...  797010   961977       01   \n1       1.6779    5.6457    1.2979  ...   45492    50864       01   \n2       1.0577    0.7756    0.9519  ...   54136    60760       01   \n3       1.5629    2.8986    0.5968  ...   15042    16918       01   \n4       0.9201    1.0273    0.9443  ...   99590   130184       01   \n...        ...       ...       ...  ...     ...      ...      ...   \n2452    2.5438    8.9568    3.8478  ...   18490    20177       32   \n2453    0.9201    4.8484    1.7459  ...   29395    31804       32   \n2454    0.2485    1.2004    1.6826  ...  138176   155533       32   \n2455    1.1950    6.9448    3.0891  ...   16934    20285       32   \n2456    3.9949    4.3814    1.2887  ...    2821     2855       32   \n\n      pct_obesidad  pct_hipertension pct_diabetes  total_camas_publicos  \\\n0        31.486541         14.942242     7.495861                  1656   \n1        32.282284         15.320425     7.953634                  1656   \n2        40.004293         13.751906     9.172624                  1656   \n3        32.596450         16.431493     7.383116                  1656   \n4        34.731715         12.356755     6.745819                  1656   \n...            ...               ...          ...                   ...   \n2452     31.075955         16.920279     9.895491                  1122   \n2453     30.526273         21.746589    12.050064                  1122   \n2454     36.822130         20.010453    11.814172                  1122   \n2455     32.477646         15.941678     8.089966                  1122   \n2456     25.364136         21.230514    11.442311                  1122   \n\n      total_camas_privados  total_hospitales_publicos  \\\n0                       43                         12   \n1                       43                         12   \n2                       43                         12   \n3                       43                         12   \n4                       43                         12   \n...                    ...                        ...   \n2452                     0                         29   \n2453                     0                         29   \n2454                     0                         29   \n2455                     0                         29   \n2456                     0                         29   \n\n      total_hospitales_privados  \n0                            20  \n1                            20  \n2                            20  \n3                            20  \n4                            20  \n...                         ...  \n2452                         49  \n2453                         49  \n2454                         49  \n2455                         49  \n2456                         49  \n\n[2457 rows x 74 columns]"
     },
     "execution_count": null,
     "metadata": {},
     "output_type": "execute_result"
    }
   ],
   "source": [
    "variables_nuevas.drop(columns=['hospitales_imss',\n",
    "                               'hospitales_issste', 'hospitales_ssa', 'hospitales_sme',\n",
    "                               'hospitales_semar', 'hospitales_sedena', 'hospitales_pemex', 'total_camas'], inplace=True)\n",
    "variables_nuevas[\"total_camas_publicos_estatal\"] = (variables_nuevas[['nom_ent', 'total_camas_publicos']]\n",
    "                                                    .groupby('nom_ent')\n",
    "                                                    .transform('sum'))\n",
    "variables_nuevas[\"total_camas_privados_estatal\"] = (variables_nuevas[['nom_ent', 'total_de_camas_privados']]\n",
    "                                                    .groupby('nom_ent')\n",
    "                                                    .transform('sum'))\n",
    "variables_nuevas[\"total_hospitales_publicos_estatal\"] = (variables_nuevas[['nom_ent', 'total_hospitales_publicos']]\n",
    "                                                    .groupby('nom_ent')\n",
    "                                                    .transform('sum'))\n",
    "variables_nuevas[\"total_hospitales_privados_estatal\"] = (variables_nuevas[['nom_ent', 'hospitales_privados']]\n",
    "                                                    .groupby('nom_ent')\n",
    "                                                    .transform('sum'))                                                 \n",
    "variables_nuevas.drop(columns=['total_camas_publicos', 'total_de_camas_privados',\n",
    "                               'total_hospitales_publicos', 'hospitales_privados'], inplace=True)\n",
    "variables_nuevas.rename({\"total_camas_publicos_estatal\": \"total_camas_publicos\",\n",
    "                         \"total_camas_privados_estatal\": \"total_camas_privados\",\n",
    "                         \"total_hospitales_publicos_estatal\": \"total_hospitales_publicos\",\n",
    "                         \"total_hospitales_privados_estatal\": \"total_hospitales_privados\"}, axis=1, inplace=True)\n",
    "variables_nuevas.drop(columns=\"total_camas_privados\")\n",
    "variables_nuevas"
   ]
  },
  {
   "cell_type": "code",
   "execution_count": null,
   "metadata": {},
   "outputs": [
    {
     "data": {
      "text/plain": "Index(['cvegeo', 'nom_ent', 'pt_2015', 'an_2015', 'ne614_015', 'bi_2015',\n       'sins_15', 'vpt_2015', 'vns_2015', 'vna_2015', 'vnd_2015', 'vne_2015',\n       'vnl_2015', 'vnr_2015', 'irs_2015', 'grs_2015', 'lmex_2015',\n       'poblacion', 'pobreza', 'pobreza_pob', 'pobreza_e', 'pobreza_e_pob',\n       'pobreza_m', 'pobreza_m_pob', 'vul_car', 'vul_car_pob', 'vul_ing',\n       'vul_ing_pob', 'npnv', 'npnv_pob', 'ic_rezedu', 'ic_rezedu_pob',\n       'ic_asalud', 'ic_asalud_pob', 'ic_segsoc', 'ic_segsoc_pob', 'ic_cv',\n       'ic_cv_pob', 'ic_sbv', 'ic_sbv_pob', 'ic_ali', 'ic_ali_pob',\n       'carencias', 'carencias_pob', 'carencias3', 'carencias3_pob', 'plb',\n       'plb_pob', 'plbm', 'plbm_pob', 'pob_total', 'mayores_65', 'pob_menore',\n       'sin_derech', 'sin_dere_1', 'entidad_cv', 'consultori', 'consulto_1',\n       'farmacias', 'id', 'municipio_cvegeo', 'nom_mun', 'porc_carencia_salud',\n       'entidad_cvegeo', 'pob01', 'pob2020', 'pct_obesidad',\n       'pct_hipertension', 'pct_diabetes', 'total_camas_publicos',\n       'total_camas_privados', 'total_hospitales_publicos',\n       'total_hospitales_privados'],\n      dtype='object')"
     },
     "execution_count": null,
     "metadata": {},
     "output_type": "execute_result"
    }
   ],
   "source": [
    "variables_nuevas.columns"
   ]
  },
  {
   "cell_type": "code",
   "execution_count": null,
   "metadata": {},
   "outputs": [],
   "source": [
    "variables_nuevas.to_csv(\"datos/municipios/indicadores.csv\", index=False)"
   ]
  },
  {
   "cell_type": "code",
   "execution_count": null,
   "metadata": {},
   "outputs": [],
   "source": []
  }
 ],
 "metadata": {
  "kernelspec": {
   "display_name": "Python 3",
   "language": "python",
   "name": "python3"
  }
 },
 "nbformat": 4,
 "nbformat_minor": 2
}
