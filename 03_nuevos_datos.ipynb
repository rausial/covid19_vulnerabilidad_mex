{
 "cells": [
  {
   "cell_type": "code",
   "execution_count": 1,
   "metadata": {},
   "outputs": [],
   "source": [
    "from ipywidgets import IntProgress\n",
    "from IPython.display import display\n",
    "import time\n",
    "\n",
    "import os\n",
    "import sys\n",
    "module_path = os.path.abspath(os.path.join('./covid_vulnerabilidad_mex'))\n",
    "if module_path not in sys.path:\n",
    "    sys.path.append(module_path)\n",
    "\n",
    "from covid19_vulnerabilidad_mex.datos import *\n",
    "from covid19_vulnerabilidad_mex.vulnerabilidad import *\n",
    "\n",
    "import pandas as pd\n",
    "import geopandas as gpd\n",
    "\n",
    "import glob\n",
    "import os\n",
    "import matplotlib.pyplot as plt\n",
    "import numpy as np\n",
    "\n",
    "from datetime import timedelta\n",
    "import datetime\n",
    "from datetime import timedelta, date, datetime\n",
    "\n",
    "from sklearn.feature_selection import SelectKBest, chi2\n",
    "from sklearn.ensemble import RandomForestRegressor, RandomForestClassifier\n",
    "from sklearn.feature_selection import SelectFromModel\n",
    "from sklearn.cross_decomposition import PLSRegression\n",
    "\n",
    "from pygifsicle import optimize\n",
    "from pathlib import Path\n"
   ]
  },
  {
   "cell_type": "code",
   "execution_count": 2,
   "metadata": {},
   "outputs": [],
   "source": [
    "%load_ext autoreload\n",
    "%autoreload 2"
   ]
  },
  {
   "cell_type": "markdown",
   "metadata": {},
   "source": [
    "## Nuevos datos de comorbilidades\n",
    "\n",
    "Del trabajo de INEGI de estimación en áreas pequeñas"
   ]
  },
  {
   "cell_type": "code",
   "execution_count": null,
   "metadata": {},
   "outputs": [
    {
     "data": {
      "text/html": "<div>\n<style scoped>\n    .dataframe tbody tr th:only-of-type {\n        vertical-align: middle;\n    }\n\n    .dataframe tbody tr th {\n        vertical-align: top;\n    }\n\n    .dataframe thead th {\n        text-align: right;\n    }\n</style>\n<table border=\"1\" class=\"dataframe\">\n  <thead>\n    <tr style=\"text-align: right;\">\n      <th></th>\n      <th>cve_ent</th>\n      <th>cvegeo</th>\n      <th>pct_obesidad</th>\n      <th>pct_hipertension</th>\n      <th>pct_diabetes</th>\n    </tr>\n  </thead>\n  <tbody>\n    <tr>\n      <th>10</th>\n      <td>01</td>\n      <td>01001</td>\n      <td>31.486541</td>\n      <td>14.942242</td>\n      <td>7.495861</td>\n    </tr>\n    <tr>\n      <th>15</th>\n      <td>01</td>\n      <td>01002</td>\n      <td>32.282284</td>\n      <td>15.320425</td>\n      <td>7.953634</td>\n    </tr>\n    <tr>\n      <th>20</th>\n      <td>01</td>\n      <td>01003</td>\n      <td>40.004293</td>\n      <td>13.751906</td>\n      <td>9.172624</td>\n    </tr>\n    <tr>\n      <th>25</th>\n      <td>01</td>\n      <td>01004</td>\n      <td>32.596450</td>\n      <td>16.431493</td>\n      <td>7.383116</td>\n    </tr>\n    <tr>\n      <th>30</th>\n      <td>01</td>\n      <td>01005</td>\n      <td>34.731715</td>\n      <td>12.356755</td>\n      <td>6.745819</td>\n    </tr>\n    <tr>\n      <th>...</th>\n      <td>...</td>\n      <td>...</td>\n      <td>...</td>\n      <td>...</td>\n      <td>...</td>\n    </tr>\n    <tr>\n      <th>12425</th>\n      <td>32</td>\n      <td>32054</td>\n      <td>31.075955</td>\n      <td>16.920279</td>\n      <td>9.895491</td>\n    </tr>\n    <tr>\n      <th>12430</th>\n      <td>32</td>\n      <td>32055</td>\n      <td>30.526273</td>\n      <td>21.746589</td>\n      <td>12.050064</td>\n    </tr>\n    <tr>\n      <th>12435</th>\n      <td>32</td>\n      <td>32056</td>\n      <td>36.822130</td>\n      <td>20.010453</td>\n      <td>11.814172</td>\n    </tr>\n    <tr>\n      <th>12440</th>\n      <td>32</td>\n      <td>32057</td>\n      <td>32.477646</td>\n      <td>15.941678</td>\n      <td>8.089966</td>\n    </tr>\n    <tr>\n      <th>12445</th>\n      <td>32</td>\n      <td>32058</td>\n      <td>25.364136</td>\n      <td>21.230514</td>\n      <td>11.442311</td>\n    </tr>\n  </tbody>\n</table>\n<p>2457 rows × 5 columns</p>\n</div>",
      "text/plain": "      cve_ent cvegeo  pct_obesidad  pct_hipertension  pct_diabetes\n10         01  01001     31.486541         14.942242      7.495861\n15         01  01002     32.282284         15.320425      7.953634\n20         01  01003     40.004293         13.751906      9.172624\n25         01  01004     32.596450         16.431493      7.383116\n30         01  01005     34.731715         12.356755      6.745819\n...       ...    ...           ...               ...           ...\n12425      32  32054     31.075955         16.920279      9.895491\n12430      32  32055     30.526273         21.746589     12.050064\n12435      32  32056     36.822130         20.010453     11.814172\n12440      32  32057     32.477646         15.941678      8.089966\n12445      32  32058     25.364136         21.230514     11.442311\n\n[2457 rows x 5 columns]"
     },
     "execution_count": null,
     "metadata": {},
     "output_type": "execute_result"
    }
   ],
   "source": [
    "comorbilidades = pd.read_excel(\"datos/municipios/a_peq_prev_2018.xlsx\",\n",
    "                               engine='openpyxl',\n",
    "                               skiprows=2,\n",
    "                               nrows=12450,\n",
    "                               usecols='A:I',\n",
    "                               dtype={'Identificador único del municipio':str,\n",
    "                                      'Clave de entidad federativa':str,\n",
    "                                      'Clave de municipio o delegación':str}\n",
    "                            ).rename({'Identificador único del municipio': 'cvegeo',\n",
    "                                      'Porcentaje de población de 20 años y más con obesidad.':'pct_obesidad', \n",
    "                                      'Porcentaje de población de 20 años y más con diagnóstico previo de hipertensión.':'pct_hipertension',\n",
    "                                      'Porcentaje de población de 20 años y más con diagnóstico previo de diabetes.':'pct_diabetes',\n",
    "                                      'Clave de entidad federativa': 'cve_ent'},\n",
    "                                      axis=1)\n",
    "comorbilidades = comorbilidades[comorbilidades['Municipio o delegación'] != 'Total']\n",
    "comorbilidades = comorbilidades[comorbilidades['Estimador'] == 'Valor']\n",
    "comorbilidades = comorbilidades[['cve_ent', 'cvegeo', 'pct_obesidad', 'pct_hipertension', 'pct_diabetes']]\n",
    "comorbilidades\n"
   ]
  },
  {
   "cell_type": "code",
   "execution_count": null,
   "metadata": {},
   "outputs": [
    {
     "data": {
      "text/plain": "array(['01', '02', '03', '04', '05', '06', '07', '08', '09', '10', '11',\n       '12', '13', '14', '15', '16', '17', '18', '19', '20', '21', '22',\n       '23', '24', '25', '26', '27', '28', '29', '30', '31', '32'],\n      dtype=object)"
     },
     "execution_count": null,
     "metadata": {},
     "output_type": "execute_result"
    }
   ],
   "source": [
    "comorbilidades['cve_ent'].unique()"
   ]
  },
  {
   "cell_type": "code",
   "execution_count": null,
   "metadata": {},
   "outputs": [
    {
     "data": {
      "text/html": "<div>\n<style scoped>\n    .dataframe tbody tr th:only-of-type {\n        vertical-align: middle;\n    }\n\n    .dataframe tbody tr th {\n        vertical-align: top;\n    }\n\n    .dataframe thead th {\n        text-align: right;\n    }\n</style>\n<table border=\"1\" class=\"dataframe\">\n  <thead>\n    <tr style=\"text-align: right;\">\n      <th></th>\n      <th>cvegeo</th>\n      <th>nom_ent</th>\n      <th>pt_2015</th>\n      <th>an_2015</th>\n      <th>ne614_015</th>\n      <th>bi_2015</th>\n      <th>sins_15</th>\n      <th>vpt_2015</th>\n      <th>vns_2015</th>\n      <th>vna_2015</th>\n      <th>...</th>\n      <th>hospitales_sme</th>\n      <th>hospitales_semar</th>\n      <th>hospitales_sedena</th>\n      <th>hospitales_pemex</th>\n      <th>total_hospitales_publicos</th>\n      <th>total_camas_publicos</th>\n      <th>hospitales_privados</th>\n      <th>total_de_camas_privados</th>\n      <th>total_camas</th>\n      <th>pob2020</th>\n    </tr>\n  </thead>\n  <tbody>\n    <tr>\n      <th>0</th>\n      <td>01001</td>\n      <td>Aguascalientes</td>\n      <td>877190</td>\n      <td>2.0570</td>\n      <td>3.4786</td>\n      <td>25.6873</td>\n      <td>14.1560</td>\n      <td>0.5478</td>\n      <td>0.5543</td>\n      <td>0.6627</td>\n      <td>...</td>\n      <td>0</td>\n      <td>0</td>\n      <td>0</td>\n      <td>0</td>\n      <td>8</td>\n      <td>1228</td>\n      <td>17</td>\n      <td>43</td>\n      <td>1271</td>\n      <td>961977</td>\n    </tr>\n    <tr>\n      <th>1</th>\n      <td>01002</td>\n      <td>Aguascalientes</td>\n      <td>46464</td>\n      <td>4.4207</td>\n      <td>2.5959</td>\n      <td>41.8921</td>\n      <td>5.5355</td>\n      <td>1.6779</td>\n      <td>5.6457</td>\n      <td>1.2979</td>\n      <td>...</td>\n      <td>0</td>\n      <td>0</td>\n      <td>0</td>\n      <td>0</td>\n      <td>0</td>\n      <td>0</td>\n      <td>0</td>\n      <td>0</td>\n      <td>0</td>\n      <td>50864</td>\n    </tr>\n    <tr>\n      <th>2</th>\n      <td>01003</td>\n      <td>Aguascalientes</td>\n      <td>56048</td>\n      <td>4.7805</td>\n      <td>4.3906</td>\n      <td>49.1856</td>\n      <td>9.7524</td>\n      <td>1.0577</td>\n      <td>0.7756</td>\n      <td>0.9519</td>\n      <td>...</td>\n      <td>0</td>\n      <td>0</td>\n      <td>0</td>\n      <td>0</td>\n      <td>1</td>\n      <td>46</td>\n      <td>1</td>\n      <td>0</td>\n      <td>46</td>\n      <td>60760</td>\n    </tr>\n    <tr>\n      <th>3</th>\n      <td>01004</td>\n      <td>Aguascalientes</td>\n      <td>15577</td>\n      <td>4.3233</td>\n      <td>2.6265</td>\n      <td>33.0597</td>\n      <td>5.1165</td>\n      <td>1.5629</td>\n      <td>2.8986</td>\n      <td>0.5968</td>\n      <td>...</td>\n      <td>0</td>\n      <td>0</td>\n      <td>0</td>\n      <td>0</td>\n      <td>0</td>\n      <td>0</td>\n      <td>0</td>\n      <td>0</td>\n      <td>0</td>\n      <td>16918</td>\n    </tr>\n    <tr>\n      <th>4</th>\n      <td>01005</td>\n      <td>Aguascalientes</td>\n      <td>120405</td>\n      <td>3.2445</td>\n      <td>4.1297</td>\n      <td>33.7271</td>\n      <td>13.8341</td>\n      <td>0.9201</td>\n      <td>1.0273</td>\n      <td>0.9443</td>\n      <td>...</td>\n      <td>0</td>\n      <td>0</td>\n      <td>0</td>\n      <td>0</td>\n      <td>1</td>\n      <td>297</td>\n      <td>0</td>\n      <td>0</td>\n      <td>297</td>\n      <td>130184</td>\n    </tr>\n  </tbody>\n</table>\n<p>5 rows × 86 columns</p>\n</div>",
      "text/plain": "  cvegeo         nom_ent  pt_2015  an_2015  ne614_015  bi_2015  sins_15  \\\n0  01001  Aguascalientes   877190   2.0570     3.4786  25.6873  14.1560   \n1  01002  Aguascalientes    46464   4.4207     2.5959  41.8921   5.5355   \n2  01003  Aguascalientes    56048   4.7805     4.3906  49.1856   9.7524   \n3  01004  Aguascalientes    15577   4.3233     2.6265  33.0597   5.1165   \n4  01005  Aguascalientes   120405   3.2445     4.1297  33.7271  13.8341   \n\n   vpt_2015  vns_2015  vna_2015  ...  hospitales_sme  hospitales_semar  \\\n0    0.5478    0.5543    0.6627  ...               0                 0   \n1    1.6779    5.6457    1.2979  ...               0                 0   \n2    1.0577    0.7756    0.9519  ...               0                 0   \n3    1.5629    2.8986    0.5968  ...               0                 0   \n4    0.9201    1.0273    0.9443  ...               0                 0   \n\n   hospitales_sedena  hospitales_pemex  total_hospitales_publicos  \\\n0                  0                 0                          8   \n1                  0                 0                          0   \n2                  0                 0                          1   \n3                  0                 0                          0   \n4                  0                 0                          1   \n\n  total_camas_publicos  hospitales_privados  total_de_camas_privados  \\\n0                 1228                   17                       43   \n1                    0                    0                        0   \n2                   46                    1                        0   \n3                    0                    0                        0   \n4                  297                    0                        0   \n\n   total_camas  pob2020  \n0         1271   961977  \n1            0    50864  \n2           46    60760  \n3            0    16918  \n4          297   130184  \n\n[5 rows x 86 columns]"
     },
     "execution_count": null,
     "metadata": {},
     "output_type": "execute_result"
    }
   ],
   "source": [
    "variables_municipales = pd.read_csv('datos/municipios/indicadores_original.csv', index_col=False,\n",
    "                                    dtype={'cvegeo': str, 'entidad_cv': str,\n",
    "                                            'municipio_cvegeo': str, 'entidad_cvegeo': str},\n",
    "                                    encoding='iso8859_2')\n",
    "arregla_cvegeo(variables_municipales)\n",
    "variables_municipales.head()"
   ]
  },
  {
   "cell_type": "code",
   "execution_count": null,
   "metadata": {},
   "outputs": [
    {
     "data": {
      "text/plain": "Index(['cvegeo', 'nom_ent', 'pt_2015', 'an_2015', 'ne614_015', 'bi_2015',\n       'sins_15', 'vpt_2015', 'vns_2015', 'vna_2015', 'vnd_2015', 'vne_2015',\n       'vnl_2015', 'vnr_2015', 'irs_2015', 'grs_2015', 'lmex_2015',\n       'poblacion', 'pobreza', 'pobreza_pob', 'pobreza_e', 'pobreza_e_pob',\n       'pobreza_m', 'pobreza_m_pob', 'vul_car', 'vul_car_pob', 'vul_ing',\n       'vul_ing_pob', 'npnv', 'npnv_pob', 'ic_rezedu', 'ic_rezedu_pob',\n       'ic_asalud', 'ic_asalud_pob', 'ic_segsoc', 'ic_segsoc_pob', 'ic_cv',\n       'ic_cv_pob', 'ic_sbv', 'ic_sbv_pob', 'ic_ali', 'ic_ali_pob',\n       'carencias', 'carencias_pob', 'carencias3', 'carencias3_pob', 'plb',\n       'plb_pob', 'plbm', 'plbm_pob', 'pob_total', 'mayores_65', 'pob_menore',\n       'sin_derech', 'sin_dere_1', 'entidad_cv', 'consultori', 'consulto_1',\n       'farmacias', 'id', 'municipio_cvegeo', 'nom_mun', 'porc_carencia_salud',\n       'entidad_cvegeo', 'pob01', 'tasa_diabetes', 'tasa_cardiacas',\n       'tasa_cancer', 'tasa_pulmonares', 'grado_diabetes', 'grado_cardiacas',\n       'grado_cancer', 'grado_pulmonares', 'hospitales_imss',\n       'hospitales_issste', 'hospitales_ssa', 'hospitales_sme',\n       'hospitales_semar', 'hospitales_sedena', 'hospitales_pemex',\n       'total_hospitales_publicos', 'total_camas_publicos',\n       'hospitales_privados', 'total_de_camas_privados', 'total_camas',\n       'pob2020'],\n      dtype='object')"
     },
     "execution_count": null,
     "metadata": {},
     "output_type": "execute_result"
    }
   ],
   "source": [
    "variables_municipales.columns"
   ]
  },
  {
   "cell_type": "code",
   "execution_count": null,
   "metadata": {},
   "outputs": [
    {
     "ename": "KeyboardInterrupt",
     "evalue": "",
     "output_type": "error",
     "traceback": [
      "\u001b[0;31m---------------------------------------------------------------------------\u001b[0m",
      "\u001b[0;31mKeyboardInterrupt\u001b[0m                         Traceback (most recent call last)",
      "\u001b[0;32m~/miniconda3/envs/covid-vulnerabilidad/lib/python3.8/site-packages/IPython/core/async_helpers.py\u001b[0m in \u001b[0;36m_pseudo_sync_runner\u001b[0;34m(coro)\u001b[0m\n\u001b[1;32m     66\u001b[0m     \"\"\"\n\u001b[1;32m     67\u001b[0m     \u001b[0;32mtry\u001b[0m\u001b[0;34m:\u001b[0m\u001b[0;34m\u001b[0m\u001b[0;34m\u001b[0m\u001b[0m\n\u001b[0;32m---> 68\u001b[0;31m         \u001b[0mcoro\u001b[0m\u001b[0;34m.\u001b[0m\u001b[0msend\u001b[0m\u001b[0;34m(\u001b[0m\u001b[0;32mNone\u001b[0m\u001b[0;34m)\u001b[0m\u001b[0;34m\u001b[0m\u001b[0;34m\u001b[0m\u001b[0m\n\u001b[0m\u001b[1;32m     69\u001b[0m     \u001b[0;32mexcept\u001b[0m \u001b[0mStopIteration\u001b[0m \u001b[0;32mas\u001b[0m \u001b[0mexc\u001b[0m\u001b[0;34m:\u001b[0m\u001b[0;34m\u001b[0m\u001b[0;34m\u001b[0m\u001b[0m\n\u001b[1;32m     70\u001b[0m         \u001b[0;32mreturn\u001b[0m \u001b[0mexc\u001b[0m\u001b[0;34m.\u001b[0m\u001b[0mvalue\u001b[0m\u001b[0;34m\u001b[0m\u001b[0;34m\u001b[0m\u001b[0m\n",
      "\u001b[0;32m~/miniconda3/envs/covid-vulnerabilidad/lib/python3.8/site-packages/IPython/core/interactiveshell.py\u001b[0m in \u001b[0;36mrun_cell_async\u001b[0;34m(self, raw_cell, store_history, silent, shell_futures)\u001b[0m\n\u001b[1;32m   2985\u001b[0m         \u001b[0;31m# Store raw and processed history\u001b[0m\u001b[0;34m\u001b[0m\u001b[0;34m\u001b[0m\u001b[0;34m\u001b[0m\u001b[0m\n\u001b[1;32m   2986\u001b[0m         \u001b[0;32mif\u001b[0m \u001b[0mstore_history\u001b[0m\u001b[0;34m:\u001b[0m\u001b[0;34m\u001b[0m\u001b[0;34m\u001b[0m\u001b[0m\n\u001b[0;32m-> 2987\u001b[0;31m             self.history_manager.store_inputs(self.execution_count,\n\u001b[0m\u001b[1;32m   2988\u001b[0m                                               cell, raw_cell)\n\u001b[1;32m   2989\u001b[0m         \u001b[0;32mif\u001b[0m \u001b[0;32mnot\u001b[0m \u001b[0msilent\u001b[0m\u001b[0;34m:\u001b[0m\u001b[0;34m\u001b[0m\u001b[0;34m\u001b[0m\u001b[0m\n",
      "\u001b[0;32m~/miniconda3/envs/covid-vulnerabilidad/lib/python3.8/site-packages/IPython/core/history.py\u001b[0m in \u001b[0;36mstore_inputs\u001b[0;34m(self, line_num, source, source_raw)\u001b[0m\n\u001b[1;32m    717\u001b[0m         \u001b[0mself\u001b[0m\u001b[0;34m.\u001b[0m\u001b[0minput_hist_raw\u001b[0m\u001b[0;34m.\u001b[0m\u001b[0mappend\u001b[0m\u001b[0;34m(\u001b[0m\u001b[0msource_raw\u001b[0m\u001b[0;34m)\u001b[0m\u001b[0;34m\u001b[0m\u001b[0;34m\u001b[0m\u001b[0m\n\u001b[1;32m    718\u001b[0m \u001b[0;34m\u001b[0m\u001b[0m\n\u001b[0;32m--> 719\u001b[0;31m         \u001b[0;32mwith\u001b[0m \u001b[0mself\u001b[0m\u001b[0;34m.\u001b[0m\u001b[0mdb_input_cache_lock\u001b[0m\u001b[0;34m:\u001b[0m\u001b[0;34m\u001b[0m\u001b[0;34m\u001b[0m\u001b[0m\n\u001b[0m\u001b[1;32m    720\u001b[0m             \u001b[0mself\u001b[0m\u001b[0;34m.\u001b[0m\u001b[0mdb_input_cache\u001b[0m\u001b[0;34m.\u001b[0m\u001b[0mappend\u001b[0m\u001b[0;34m(\u001b[0m\u001b[0;34m(\u001b[0m\u001b[0mline_num\u001b[0m\u001b[0;34m,\u001b[0m \u001b[0msource\u001b[0m\u001b[0;34m,\u001b[0m \u001b[0msource_raw\u001b[0m\u001b[0;34m)\u001b[0m\u001b[0;34m)\u001b[0m\u001b[0;34m\u001b[0m\u001b[0;34m\u001b[0m\u001b[0m\n\u001b[1;32m    721\u001b[0m             \u001b[0;31m# Trigger to flush cache and write to DB.\u001b[0m\u001b[0;34m\u001b[0m\u001b[0;34m\u001b[0m\u001b[0;34m\u001b[0m\u001b[0m\n",
      "\u001b[0;31mKeyboardInterrupt\u001b[0m: "
     ]
    }
   ],
   "source": [
    "variables_nuevas = variables_municipales.merge(comorbilidades, on='cvegeo')\n",
    "variables_nuevas.drop(columns=[c for c in variables_nuevas.columns if (c.startswith('grado') or c.startswith('tasa'))], inplace=True)\n",
    "variables_nuevas"
   ]
  },
  {
   "cell_type": "code",
   "execution_count": null,
   "metadata": {},
   "outputs": [
    {
     "data": {
      "text/plain": "Index(['cvegeo', 'nom_ent', 'pt_2015', 'an_2015', 'ne614_015', 'bi_2015',\n       'sins_15', 'vpt_2015', 'vns_2015', 'vna_2015', 'vnd_2015', 'vne_2015',\n       'vnl_2015', 'vnr_2015', 'irs_2015', 'grs_2015', 'lmex_2015',\n       'poblacion', 'pobreza', 'pobreza_pob', 'pobreza_e', 'pobreza_e_pob',\n       'pobreza_m', 'pobreza_m_pob', 'vul_car', 'vul_car_pob', 'vul_ing',\n       'vul_ing_pob', 'npnv', 'npnv_pob', 'ic_rezedu', 'ic_rezedu_pob',\n       'ic_asalud', 'ic_asalud_pob', 'ic_segsoc', 'ic_segsoc_pob', 'ic_cv',\n       'ic_cv_pob', 'ic_sbv', 'ic_sbv_pob', 'ic_ali', 'ic_ali_pob',\n       'carencias', 'carencias_pob', 'carencias3', 'carencias3_pob', 'plb',\n       'plb_pob', 'plbm', 'plbm_pob', 'pob_total', 'mayores_65', 'pob_menore',\n       'sin_derech', 'sin_dere_1', 'entidad_cv', 'consultori', 'consulto_1',\n       'farmacias', 'id', 'municipio_cvegeo', 'nom_mun', 'porc_carencia_salud',\n       'entidad_cvegeo', 'pob01', 'hospitales_imss', 'hospitales_issste',\n       'hospitales_ssa', 'hospitales_sme', 'hospitales_semar',\n       'hospitales_sedena', 'hospitales_pemex', 'total_hospitales_publicos',\n       'total_camas_publicos', 'hospitales_privados',\n       'total_de_camas_privados', 'total_camas', 'pob2020', 'pct_obesidad',\n       'pct_hipertension', 'pct_diabetes'],\n      dtype='object')"
     },
     "execution_count": null,
     "metadata": {},
     "output_type": "execute_result"
    }
   ],
   "source": [
    "variables_nuevas.columns"
   ]
  },
  {
   "cell_type": "markdown",
   "metadata": {},
   "source": [
    "## Nuevas variables de hospitales\n",
    "\n",
    "* Eliminar división por sector (isste, imss, etc)\n",
    "* Sólo: total_hospitales_publicos y privados y los respectivos números de camas\n",
    "* Agregados por estado porque no tiene mucho sentido por municipio\n",
    "* Las camas de hospitales privados creo que tienen mucho error, las voy a eliminar"
   ]
  },
  {
   "cell_type": "code",
   "execution_count": null,
   "metadata": {},
   "outputs": [
    {
     "data": {
      "text/html": "<div>\n<style scoped>\n    .dataframe tbody tr th:only-of-type {\n        vertical-align: middle;\n    }\n\n    .dataframe tbody tr th {\n        vertical-align: top;\n    }\n\n    .dataframe thead th {\n        text-align: right;\n    }\n</style>\n<table border=\"1\" class=\"dataframe\">\n  <thead>\n    <tr style=\"text-align: right;\">\n      <th></th>\n      <th>cvegeo</th>\n      <th>nom_ent</th>\n      <th>pt_2015</th>\n      <th>an_2015</th>\n      <th>ne614_015</th>\n      <th>bi_2015</th>\n      <th>sins_15</th>\n      <th>vpt_2015</th>\n      <th>vns_2015</th>\n      <th>vna_2015</th>\n      <th>...</th>\n      <th>pob01</th>\n      <th>pob2020</th>\n      <th>cve_ent</th>\n      <th>pct_obesidad</th>\n      <th>pct_hipertension</th>\n      <th>pct_diabetes</th>\n      <th>total_camas_publicos</th>\n      <th>total_camas_privados</th>\n      <th>total_hospitales_publicos</th>\n      <th>total_hospitales_privados</th>\n    </tr>\n  </thead>\n  <tbody>\n    <tr>\n      <th>0</th>\n      <td>01001</td>\n      <td>Aguascalientes</td>\n      <td>877190</td>\n      <td>2.0570</td>\n      <td>3.4786</td>\n      <td>25.6873</td>\n      <td>14.1560</td>\n      <td>0.5478</td>\n      <td>0.5543</td>\n      <td>0.6627</td>\n      <td>...</td>\n      <td>797010</td>\n      <td>961977</td>\n      <td>01</td>\n      <td>31.486541</td>\n      <td>14.942242</td>\n      <td>7.495861</td>\n      <td>1656</td>\n      <td>43</td>\n      <td>12</td>\n      <td>20</td>\n    </tr>\n    <tr>\n      <th>1</th>\n      <td>01002</td>\n      <td>Aguascalientes</td>\n      <td>46464</td>\n      <td>4.4207</td>\n      <td>2.5959</td>\n      <td>41.8921</td>\n      <td>5.5355</td>\n      <td>1.6779</td>\n      <td>5.6457</td>\n      <td>1.2979</td>\n      <td>...</td>\n      <td>45492</td>\n      <td>50864</td>\n      <td>01</td>\n      <td>32.282284</td>\n      <td>15.320425</td>\n      <td>7.953634</td>\n      <td>1656</td>\n      <td>43</td>\n      <td>12</td>\n      <td>20</td>\n    </tr>\n    <tr>\n      <th>2</th>\n      <td>01003</td>\n      <td>Aguascalientes</td>\n      <td>56048</td>\n      <td>4.7805</td>\n      <td>4.3906</td>\n      <td>49.1856</td>\n      <td>9.7524</td>\n      <td>1.0577</td>\n      <td>0.7756</td>\n      <td>0.9519</td>\n      <td>...</td>\n      <td>54136</td>\n      <td>60760</td>\n      <td>01</td>\n      <td>40.004293</td>\n      <td>13.751906</td>\n      <td>9.172624</td>\n      <td>1656</td>\n      <td>43</td>\n      <td>12</td>\n      <td>20</td>\n    </tr>\n    <tr>\n      <th>3</th>\n      <td>01004</td>\n      <td>Aguascalientes</td>\n      <td>15577</td>\n      <td>4.3233</td>\n      <td>2.6265</td>\n      <td>33.0597</td>\n      <td>5.1165</td>\n      <td>1.5629</td>\n      <td>2.8986</td>\n      <td>0.5968</td>\n      <td>...</td>\n      <td>15042</td>\n      <td>16918</td>\n      <td>01</td>\n      <td>32.596450</td>\n      <td>16.431493</td>\n      <td>7.383116</td>\n      <td>1656</td>\n      <td>43</td>\n      <td>12</td>\n      <td>20</td>\n    </tr>\n    <tr>\n      <th>4</th>\n      <td>01005</td>\n      <td>Aguascalientes</td>\n      <td>120405</td>\n      <td>3.2445</td>\n      <td>4.1297</td>\n      <td>33.7271</td>\n      <td>13.8341</td>\n      <td>0.9201</td>\n      <td>1.0273</td>\n      <td>0.9443</td>\n      <td>...</td>\n      <td>99590</td>\n      <td>130184</td>\n      <td>01</td>\n      <td>34.731715</td>\n      <td>12.356755</td>\n      <td>6.745819</td>\n      <td>1656</td>\n      <td>43</td>\n      <td>12</td>\n      <td>20</td>\n    </tr>\n    <tr>\n      <th>...</th>\n      <td>...</td>\n      <td>...</td>\n      <td>...</td>\n      <td>...</td>\n      <td>...</td>\n      <td>...</td>\n      <td>...</td>\n      <td>...</td>\n      <td>...</td>\n      <td>...</td>\n      <td>...</td>\n      <td>...</td>\n      <td>...</td>\n      <td>...</td>\n      <td>...</td>\n      <td>...</td>\n      <td>...</td>\n      <td>...</td>\n      <td>...</td>\n      <td>...</td>\n      <td>...</td>\n    </tr>\n    <tr>\n      <th>2452</th>\n      <td>32054</td>\n      <td>Zacatecas</td>\n      <td>19155</td>\n      <td>8.1332</td>\n      <td>3.6565</td>\n      <td>42.1699</td>\n      <td>8.8384</td>\n      <td>2.5438</td>\n      <td>8.9568</td>\n      <td>3.8478</td>\n      <td>...</td>\n      <td>18490</td>\n      <td>20177</td>\n      <td>32</td>\n      <td>31.075955</td>\n      <td>16.920279</td>\n      <td>9.895491</td>\n      <td>1122</td>\n      <td>0</td>\n      <td>29</td>\n      <td>49</td>\n    </tr>\n    <tr>\n      <th>2453</th>\n      <td>32055</td>\n      <td>Zacatecas</td>\n      <td>30240</td>\n      <td>4.7985</td>\n      <td>3.4198</td>\n      <td>53.7212</td>\n      <td>13.5516</td>\n      <td>0.9201</td>\n      <td>4.8484</td>\n      <td>1.7459</td>\n      <td>...</td>\n      <td>29395</td>\n      <td>31804</td>\n      <td>32</td>\n      <td>30.526273</td>\n      <td>21.746589</td>\n      <td>12.050064</td>\n      <td>1122</td>\n      <td>0</td>\n      <td>29</td>\n      <td>49</td>\n    </tr>\n    <tr>\n      <th>2454</th>\n      <td>32056</td>\n      <td>Zacatecas</td>\n      <td>146147</td>\n      <td>1.2432</td>\n      <td>2.1746</td>\n      <td>23.0304</td>\n      <td>14.0968</td>\n      <td>0.2485</td>\n      <td>1.2004</td>\n      <td>1.6826</td>\n      <td>...</td>\n      <td>138176</td>\n      <td>155533</td>\n      <td>32</td>\n      <td>36.822130</td>\n      <td>20.010453</td>\n      <td>11.814172</td>\n      <td>1122</td>\n      <td>0</td>\n      <td>29</td>\n      <td>49</td>\n    </tr>\n    <tr>\n      <th>2455</th>\n      <td>32057</td>\n      <td>Zacatecas</td>\n      <td>19413</td>\n      <td>5.6122</td>\n      <td>2.5997</td>\n      <td>42.0488</td>\n      <td>9.0609</td>\n      <td>1.1950</td>\n      <td>6.9448</td>\n      <td>3.0891</td>\n      <td>...</td>\n      <td>16934</td>\n      <td>20285</td>\n      <td>32</td>\n      <td>32.477646</td>\n      <td>15.941678</td>\n      <td>8.089966</td>\n      <td>1122</td>\n      <td>0</td>\n      <td>29</td>\n      <td>49</td>\n    </tr>\n    <tr>\n      <th>2456</th>\n      <td>32058</td>\n      <td>Zacatecas</td>\n      <td>2656</td>\n      <td>5.3388</td>\n      <td>1.2563</td>\n      <td>50.6674</td>\n      <td>20.5196</td>\n      <td>3.9949</td>\n      <td>4.3814</td>\n      <td>1.2887</td>\n      <td>...</td>\n      <td>2821</td>\n      <td>2855</td>\n      <td>32</td>\n      <td>25.364136</td>\n      <td>21.230514</td>\n      <td>11.442311</td>\n      <td>1122</td>\n      <td>0</td>\n      <td>29</td>\n      <td>49</td>\n    </tr>\n  </tbody>\n</table>\n<p>2457 rows × 74 columns</p>\n</div>",
      "text/plain": "     cvegeo         nom_ent  pt_2015  an_2015  ne614_015  bi_2015  sins_15  \\\n0     01001  Aguascalientes   877190   2.0570     3.4786  25.6873  14.1560   \n1     01002  Aguascalientes    46464   4.4207     2.5959  41.8921   5.5355   \n2     01003  Aguascalientes    56048   4.7805     4.3906  49.1856   9.7524   \n3     01004  Aguascalientes    15577   4.3233     2.6265  33.0597   5.1165   \n4     01005  Aguascalientes   120405   3.2445     4.1297  33.7271  13.8341   \n...     ...             ...      ...      ...        ...      ...      ...   \n2452  32054       Zacatecas    19155   8.1332     3.6565  42.1699   8.8384   \n2453  32055       Zacatecas    30240   4.7985     3.4198  53.7212  13.5516   \n2454  32056       Zacatecas   146147   1.2432     2.1746  23.0304  14.0968   \n2455  32057       Zacatecas    19413   5.6122     2.5997  42.0488   9.0609   \n2456  32058       Zacatecas     2656   5.3388     1.2563  50.6674  20.5196   \n\n      vpt_2015  vns_2015  vna_2015  ...   pob01  pob2020  cve_ent  \\\n0       0.5478    0.5543    0.6627  ...  797010   961977       01   \n1       1.6779    5.6457    1.2979  ...   45492    50864       01   \n2       1.0577    0.7756    0.9519  ...   54136    60760       01   \n3       1.5629    2.8986    0.5968  ...   15042    16918       01   \n4       0.9201    1.0273    0.9443  ...   99590   130184       01   \n...        ...       ...       ...  ...     ...      ...      ...   \n2452    2.5438    8.9568    3.8478  ...   18490    20177       32   \n2453    0.9201    4.8484    1.7459  ...   29395    31804       32   \n2454    0.2485    1.2004    1.6826  ...  138176   155533       32   \n2455    1.1950    6.9448    3.0891  ...   16934    20285       32   \n2456    3.9949    4.3814    1.2887  ...    2821     2855       32   \n\n      pct_obesidad  pct_hipertension pct_diabetes  total_camas_publicos  \\\n0        31.486541         14.942242     7.495861                  1656   \n1        32.282284         15.320425     7.953634                  1656   \n2        40.004293         13.751906     9.172624                  1656   \n3        32.596450         16.431493     7.383116                  1656   \n4        34.731715         12.356755     6.745819                  1656   \n...            ...               ...          ...                   ...   \n2452     31.075955         16.920279     9.895491                  1122   \n2453     30.526273         21.746589    12.050064                  1122   \n2454     36.822130         20.010453    11.814172                  1122   \n2455     32.477646         15.941678     8.089966                  1122   \n2456     25.364136         21.230514    11.442311                  1122   \n\n      total_camas_privados  total_hospitales_publicos  \\\n0                       43                         12   \n1                       43                         12   \n2                       43                         12   \n3                       43                         12   \n4                       43                         12   \n...                    ...                        ...   \n2452                     0                         29   \n2453                     0                         29   \n2454                     0                         29   \n2455                     0                         29   \n2456                     0                         29   \n\n      total_hospitales_privados  \n0                            20  \n1                            20  \n2                            20  \n3                            20  \n4                            20  \n...                         ...  \n2452                         49  \n2453                         49  \n2454                         49  \n2455                         49  \n2456                         49  \n\n[2457 rows x 74 columns]"
     },
     "execution_count": null,
     "metadata": {},
     "output_type": "execute_result"
    }
   ],
   "source": [
    "variables_nuevas.drop(columns=['hospitales_imss',\n",
    "                               'hospitales_issste', 'hospitales_ssa', 'hospitales_sme',\n",
    "                               'hospitales_semar', 'hospitales_sedena', 'hospitales_pemex', 'total_camas'], inplace=True)\n",
    "variables_nuevas[\"total_camas_publicos_estatal\"] = (variables_nuevas[['nom_ent', 'total_camas_publicos']]\n",
    "                                                    .groupby('nom_ent')\n",
    "                                                    .transform('sum'))\n",
    "variables_nuevas[\"total_camas_privados_estatal\"] = (variables_nuevas[['nom_ent', 'total_de_camas_privados']]\n",
    "                                                    .groupby('nom_ent')\n",
    "                                                    .transform('sum'))\n",
    "variables_nuevas[\"total_hospitales_publicos_estatal\"] = (variables_nuevas[['nom_ent', 'total_hospitales_publicos']]\n",
    "                                                    .groupby('nom_ent')\n",
    "                                                    .transform('sum'))\n",
    "variables_nuevas[\"total_hospitales_privados_estatal\"] = (variables_nuevas[['nom_ent', 'hospitales_privados']]\n",
    "                                                    .groupby('nom_ent')\n",
    "                                                    .transform('sum'))                                                 \n",
    "variables_nuevas.drop(columns=['total_camas_publicos', 'total_de_camas_privados',\n",
    "                               'total_hospitales_publicos', 'hospitales_privados'], inplace=True)\n",
    "variables_nuevas.rename({\"total_camas_publicos_estatal\": \"total_camas_publicos\",\n",
    "                         \"total_camas_privados_estatal\": \"total_camas_privados\",\n",
    "                         \"total_hospitales_publicos_estatal\": \"total_hospitales_publicos\",\n",
    "                         \"total_hospitales_privados_estatal\": \"total_hospitales_privados\"}, axis=1, inplace=True)\n",
    "variables_nuevas.drop(columns=\"total_camas_privados\")\n",
    "variables_nuevas"
   ]
  },
  {
   "cell_type": "code",
   "execution_count": null,
   "metadata": {},
   "outputs": [
    {
     "data": {
      "text/plain": "Index(['cvegeo', 'nom_ent', 'pt_2015', 'an_2015', 'ne614_015', 'bi_2015',\n       'sins_15', 'vpt_2015', 'vns_2015', 'vna_2015', 'vnd_2015', 'vne_2015',\n       'vnl_2015', 'vnr_2015', 'irs_2015', 'grs_2015', 'lmex_2015',\n       'poblacion', 'pobreza', 'pobreza_pob', 'pobreza_e', 'pobreza_e_pob',\n       'pobreza_m', 'pobreza_m_pob', 'vul_car', 'vul_car_pob', 'vul_ing',\n       'vul_ing_pob', 'npnv', 'npnv_pob', 'ic_rezedu', 'ic_rezedu_pob',\n       'ic_asalud', 'ic_asalud_pob', 'ic_segsoc', 'ic_segsoc_pob', 'ic_cv',\n       'ic_cv_pob', 'ic_sbv', 'ic_sbv_pob', 'ic_ali', 'ic_ali_pob',\n       'carencias', 'carencias_pob', 'carencias3', 'carencias3_pob', 'plb',\n       'plb_pob', 'plbm', 'plbm_pob', 'pob_total', 'mayores_65', 'pob_menore',\n       'sin_derech', 'sin_dere_1', 'entidad_cv', 'consultori', 'consulto_1',\n       'farmacias', 'id', 'municipio_cvegeo', 'nom_mun', 'porc_carencia_salud',\n       'entidad_cvegeo', 'pob01', 'pob2020', 'pct_obesidad',\n       'pct_hipertension', 'pct_diabetes', 'total_camas_publicos',\n       'total_camas_privados', 'total_hospitales_publicos',\n       'total_hospitales_privados'],\n      dtype='object')"
     },
     "execution_count": null,
     "metadata": {},
     "output_type": "execute_result"
    }
   ],
   "source": [
    "variables_nuevas.columns"
   ]
  },
  {
   "cell_type": "code",
   "execution_count": null,
   "metadata": {},
   "outputs": [],
   "source": [
    "variables_nuevas.to_csv(\"datos/municipios/indicadores.csv\", index=False)"
   ]
  },
  {
   "cell_type": "markdown",
   "metadata": {},
   "source": [
    "## Recodificación\n",
    "\n",
    "Vamos a recodificar las variables de forma que siempre un valor más grande implique una mayor vulnerabilidad. Para eso vamos a partir del archivo con las nuevas variables de INEGI y los hospitales agregados por estado\n",
    "\n",
    "Las variables a reclasificar son:\n",
    "\n",
    "* Total de hospitales\n",
    "* Total de camas\n",
    "* Consultorios. Antes vamos a ponderar por población\n",
    "* Farmacias. Antes vamos a ponderar por población\n",
    "* npnv\n",
    "\n",
    "Para reclasificar vamos a  reescalar la variable (MinMax) y para invertir la variaciónb vamos a restar el valor reescalado a 1"
   ]
  },
  {
   "cell_type": "code",
   "execution_count": 3,
   "metadata": {},
   "outputs": [
    {
     "data": {
      "text/html": "<div>\n<style scoped>\n    .dataframe tbody tr th:only-of-type {\n        vertical-align: middle;\n    }\n\n    .dataframe tbody tr th {\n        vertical-align: top;\n    }\n\n    .dataframe thead th {\n        text-align: right;\n    }\n</style>\n<table border=\"1\" class=\"dataframe\">\n  <thead>\n    <tr style=\"text-align: right;\">\n      <th></th>\n      <th>cvegeo</th>\n      <th>nom_ent</th>\n      <th>pt_2015</th>\n      <th>an_2015</th>\n      <th>ne614_015</th>\n      <th>bi_2015</th>\n      <th>sins_15</th>\n      <th>vpt_2015</th>\n      <th>vns_2015</th>\n      <th>vna_2015</th>\n      <th>...</th>\n      <th>pob01</th>\n      <th>pob2020</th>\n      <th>cve_ent</th>\n      <th>pct_obesidad</th>\n      <th>pct_hipertension</th>\n      <th>pct_diabetes</th>\n      <th>total_camas_publicos</th>\n      <th>total_camas_privados</th>\n      <th>total_hospitales_publicos</th>\n      <th>total_hospitales_privados</th>\n    </tr>\n  </thead>\n  <tbody>\n    <tr>\n      <th>0</th>\n      <td>01001</td>\n      <td>Aguascalientes</td>\n      <td>877190</td>\n      <td>2.0570</td>\n      <td>3.4786</td>\n      <td>25.6873</td>\n      <td>14.1560</td>\n      <td>0.5478</td>\n      <td>0.5543</td>\n      <td>0.6627</td>\n      <td>...</td>\n      <td>797010</td>\n      <td>961977</td>\n      <td>1</td>\n      <td>31.486541</td>\n      <td>14.942242</td>\n      <td>7.495861</td>\n      <td>1656</td>\n      <td>43</td>\n      <td>12</td>\n      <td>20</td>\n    </tr>\n    <tr>\n      <th>1</th>\n      <td>01002</td>\n      <td>Aguascalientes</td>\n      <td>46464</td>\n      <td>4.4207</td>\n      <td>2.5959</td>\n      <td>41.8921</td>\n      <td>5.5355</td>\n      <td>1.6779</td>\n      <td>5.6457</td>\n      <td>1.2979</td>\n      <td>...</td>\n      <td>45492</td>\n      <td>50864</td>\n      <td>1</td>\n      <td>32.282284</td>\n      <td>15.320425</td>\n      <td>7.953634</td>\n      <td>1656</td>\n      <td>43</td>\n      <td>12</td>\n      <td>20</td>\n    </tr>\n    <tr>\n      <th>2</th>\n      <td>01003</td>\n      <td>Aguascalientes</td>\n      <td>56048</td>\n      <td>4.7805</td>\n      <td>4.3906</td>\n      <td>49.1856</td>\n      <td>9.7524</td>\n      <td>1.0577</td>\n      <td>0.7756</td>\n      <td>0.9519</td>\n      <td>...</td>\n      <td>54136</td>\n      <td>60760</td>\n      <td>1</td>\n      <td>40.004293</td>\n      <td>13.751906</td>\n      <td>9.172624</td>\n      <td>1656</td>\n      <td>43</td>\n      <td>12</td>\n      <td>20</td>\n    </tr>\n    <tr>\n      <th>3</th>\n      <td>01004</td>\n      <td>Aguascalientes</td>\n      <td>15577</td>\n      <td>4.3233</td>\n      <td>2.6265</td>\n      <td>33.0597</td>\n      <td>5.1165</td>\n      <td>1.5629</td>\n      <td>2.8986</td>\n      <td>0.5968</td>\n      <td>...</td>\n      <td>15042</td>\n      <td>16918</td>\n      <td>1</td>\n      <td>32.596450</td>\n      <td>16.431493</td>\n      <td>7.383116</td>\n      <td>1656</td>\n      <td>43</td>\n      <td>12</td>\n      <td>20</td>\n    </tr>\n    <tr>\n      <th>4</th>\n      <td>01005</td>\n      <td>Aguascalientes</td>\n      <td>120405</td>\n      <td>3.2445</td>\n      <td>4.1297</td>\n      <td>33.7271</td>\n      <td>13.8341</td>\n      <td>0.9201</td>\n      <td>1.0273</td>\n      <td>0.9443</td>\n      <td>...</td>\n      <td>99590</td>\n      <td>130184</td>\n      <td>1</td>\n      <td>34.731715</td>\n      <td>12.356755</td>\n      <td>6.745819</td>\n      <td>1656</td>\n      <td>43</td>\n      <td>12</td>\n      <td>20</td>\n    </tr>\n  </tbody>\n</table>\n<p>5 rows × 74 columns</p>\n</div>",
      "text/plain": "  cvegeo         nom_ent  pt_2015  an_2015  ne614_015  bi_2015  sins_15  \\\n0  01001  Aguascalientes   877190   2.0570     3.4786  25.6873  14.1560   \n1  01002  Aguascalientes    46464   4.4207     2.5959  41.8921   5.5355   \n2  01003  Aguascalientes    56048   4.7805     4.3906  49.1856   9.7524   \n3  01004  Aguascalientes    15577   4.3233     2.6265  33.0597   5.1165   \n4  01005  Aguascalientes   120405   3.2445     4.1297  33.7271  13.8341   \n\n   vpt_2015  vns_2015  vna_2015  ...   pob01  pob2020  cve_ent  pct_obesidad  \\\n0    0.5478    0.5543    0.6627  ...  797010   961977        1     31.486541   \n1    1.6779    5.6457    1.2979  ...   45492    50864        1     32.282284   \n2    1.0577    0.7756    0.9519  ...   54136    60760        1     40.004293   \n3    1.5629    2.8986    0.5968  ...   15042    16918        1     32.596450   \n4    0.9201    1.0273    0.9443  ...   99590   130184        1     34.731715   \n\n   pct_hipertension pct_diabetes  total_camas_publicos  total_camas_privados  \\\n0         14.942242     7.495861                  1656                    43   \n1         15.320425     7.953634                  1656                    43   \n2         13.751906     9.172624                  1656                    43   \n3         16.431493     7.383116                  1656                    43   \n4         12.356755     6.745819                  1656                    43   \n\n   total_hospitales_publicos  total_hospitales_privados  \n0                         12                         20  \n1                         12                         20  \n2                         12                         20  \n3                         12                         20  \n4                         12                         20  \n\n[5 rows x 74 columns]"
     },
     "execution_count": 3,
     "metadata": {},
     "output_type": "execute_result"
    }
   ],
   "source": [
    "variables_municipales = pd.read_csv('datos/municipios/indicadores_nueva_comorbilidad.csv', index_col=False,\n",
    "                                    dtype={'cvegeo': str, 'entidad_cv': str,\n",
    "                                            'municipio_cvegeo': str, 'entidad_cvegeo': str},\n",
    "                                    encoding='iso8859_2')\n",
    "arregla_cvegeo(variables_municipales)\n",
    "variables_municipales.head()"
   ]
  },
  {
   "cell_type": "code",
   "execution_count": 4,
   "metadata": {},
   "outputs": [
    {
     "data": {
      "text/html": "<div>\n<style scoped>\n    .dataframe tbody tr th:only-of-type {\n        vertical-align: middle;\n    }\n\n    .dataframe tbody tr th {\n        vertical-align: top;\n    }\n\n    .dataframe thead th {\n        text-align: right;\n    }\n</style>\n<table border=\"1\" class=\"dataframe\">\n  <thead>\n    <tr style=\"text-align: right;\">\n      <th></th>\n      <th>cvegeo</th>\n      <th>nom_ent</th>\n      <th>pt_2015</th>\n      <th>an_2015</th>\n      <th>ne614_015</th>\n      <th>bi_2015</th>\n      <th>sins_15</th>\n      <th>vpt_2015</th>\n      <th>vns_2015</th>\n      <th>vna_2015</th>\n      <th>...</th>\n      <th>pob01</th>\n      <th>pob2020</th>\n      <th>cve_ent</th>\n      <th>pct_obesidad</th>\n      <th>pct_hipertension</th>\n      <th>pct_diabetes</th>\n      <th>total_camas_publicos</th>\n      <th>total_camas_privados</th>\n      <th>total_hospitales_publicos</th>\n      <th>total_hospitales_privados</th>\n    </tr>\n  </thead>\n  <tbody>\n    <tr>\n      <th>0</th>\n      <td>01001</td>\n      <td>Aguascalientes</td>\n      <td>877190</td>\n      <td>2.0570</td>\n      <td>3.4786</td>\n      <td>25.6873</td>\n      <td>14.1560</td>\n      <td>0.5478</td>\n      <td>0.5543</td>\n      <td>0.6627</td>\n      <td>...</td>\n      <td>797010</td>\n      <td>961977</td>\n      <td>1</td>\n      <td>31.486541</td>\n      <td>14.942242</td>\n      <td>7.495861</td>\n      <td>0.959461</td>\n      <td>0.993091</td>\n      <td>0.981481</td>\n      <td>0.965385</td>\n    </tr>\n    <tr>\n      <th>1</th>\n      <td>01002</td>\n      <td>Aguascalientes</td>\n      <td>46464</td>\n      <td>4.4207</td>\n      <td>2.5959</td>\n      <td>41.8921</td>\n      <td>5.5355</td>\n      <td>1.6779</td>\n      <td>5.6457</td>\n      <td>1.2979</td>\n      <td>...</td>\n      <td>45492</td>\n      <td>50864</td>\n      <td>1</td>\n      <td>32.282284</td>\n      <td>15.320425</td>\n      <td>7.953634</td>\n      <td>0.959461</td>\n      <td>0.993091</td>\n      <td>0.981481</td>\n      <td>0.965385</td>\n    </tr>\n    <tr>\n      <th>2</th>\n      <td>01003</td>\n      <td>Aguascalientes</td>\n      <td>56048</td>\n      <td>4.7805</td>\n      <td>4.3906</td>\n      <td>49.1856</td>\n      <td>9.7524</td>\n      <td>1.0577</td>\n      <td>0.7756</td>\n      <td>0.9519</td>\n      <td>...</td>\n      <td>54136</td>\n      <td>60760</td>\n      <td>1</td>\n      <td>40.004293</td>\n      <td>13.751906</td>\n      <td>9.172624</td>\n      <td>0.959461</td>\n      <td>0.993091</td>\n      <td>0.981481</td>\n      <td>0.965385</td>\n    </tr>\n    <tr>\n      <th>3</th>\n      <td>01004</td>\n      <td>Aguascalientes</td>\n      <td>15577</td>\n      <td>4.3233</td>\n      <td>2.6265</td>\n      <td>33.0597</td>\n      <td>5.1165</td>\n      <td>1.5629</td>\n      <td>2.8986</td>\n      <td>0.5968</td>\n      <td>...</td>\n      <td>15042</td>\n      <td>16918</td>\n      <td>1</td>\n      <td>32.596450</td>\n      <td>16.431493</td>\n      <td>7.383116</td>\n      <td>0.959461</td>\n      <td>0.993091</td>\n      <td>0.981481</td>\n      <td>0.965385</td>\n    </tr>\n    <tr>\n      <th>4</th>\n      <td>01005</td>\n      <td>Aguascalientes</td>\n      <td>120405</td>\n      <td>3.2445</td>\n      <td>4.1297</td>\n      <td>33.7271</td>\n      <td>13.8341</td>\n      <td>0.9201</td>\n      <td>1.0273</td>\n      <td>0.9443</td>\n      <td>...</td>\n      <td>99590</td>\n      <td>130184</td>\n      <td>1</td>\n      <td>34.731715</td>\n      <td>12.356755</td>\n      <td>6.745819</td>\n      <td>0.959461</td>\n      <td>0.993091</td>\n      <td>0.981481</td>\n      <td>0.965385</td>\n    </tr>\n    <tr>\n      <th>...</th>\n      <td>...</td>\n      <td>...</td>\n      <td>...</td>\n      <td>...</td>\n      <td>...</td>\n      <td>...</td>\n      <td>...</td>\n      <td>...</td>\n      <td>...</td>\n      <td>...</td>\n      <td>...</td>\n      <td>...</td>\n      <td>...</td>\n      <td>...</td>\n      <td>...</td>\n      <td>...</td>\n      <td>...</td>\n      <td>...</td>\n      <td>...</td>\n      <td>...</td>\n      <td>...</td>\n    </tr>\n    <tr>\n      <th>2452</th>\n      <td>32054</td>\n      <td>Zacatecas</td>\n      <td>19155</td>\n      <td>8.1332</td>\n      <td>3.6565</td>\n      <td>42.1699</td>\n      <td>8.8384</td>\n      <td>2.5438</td>\n      <td>8.9568</td>\n      <td>3.8478</td>\n      <td>...</td>\n      <td>18490</td>\n      <td>20177</td>\n      <td>32</td>\n      <td>31.075955</td>\n      <td>16.920279</td>\n      <td>9.895491</td>\n      <td>0.991437</td>\n      <td>1.000000</td>\n      <td>0.824074</td>\n      <td>0.909615</td>\n    </tr>\n    <tr>\n      <th>2453</th>\n      <td>32055</td>\n      <td>Zacatecas</td>\n      <td>30240</td>\n      <td>4.7985</td>\n      <td>3.4198</td>\n      <td>53.7212</td>\n      <td>13.5516</td>\n      <td>0.9201</td>\n      <td>4.8484</td>\n      <td>1.7459</td>\n      <td>...</td>\n      <td>29395</td>\n      <td>31804</td>\n      <td>32</td>\n      <td>30.526273</td>\n      <td>21.746589</td>\n      <td>12.050064</td>\n      <td>0.991437</td>\n      <td>1.000000</td>\n      <td>0.824074</td>\n      <td>0.909615</td>\n    </tr>\n    <tr>\n      <th>2454</th>\n      <td>32056</td>\n      <td>Zacatecas</td>\n      <td>146147</td>\n      <td>1.2432</td>\n      <td>2.1746</td>\n      <td>23.0304</td>\n      <td>14.0968</td>\n      <td>0.2485</td>\n      <td>1.2004</td>\n      <td>1.6826</td>\n      <td>...</td>\n      <td>138176</td>\n      <td>155533</td>\n      <td>32</td>\n      <td>36.822130</td>\n      <td>20.010453</td>\n      <td>11.814172</td>\n      <td>0.991437</td>\n      <td>1.000000</td>\n      <td>0.824074</td>\n      <td>0.909615</td>\n    </tr>\n    <tr>\n      <th>2455</th>\n      <td>32057</td>\n      <td>Zacatecas</td>\n      <td>19413</td>\n      <td>5.6122</td>\n      <td>2.5997</td>\n      <td>42.0488</td>\n      <td>9.0609</td>\n      <td>1.1950</td>\n      <td>6.9448</td>\n      <td>3.0891</td>\n      <td>...</td>\n      <td>16934</td>\n      <td>20285</td>\n      <td>32</td>\n      <td>32.477646</td>\n      <td>15.941678</td>\n      <td>8.089966</td>\n      <td>0.991437</td>\n      <td>1.000000</td>\n      <td>0.824074</td>\n      <td>0.909615</td>\n    </tr>\n    <tr>\n      <th>2456</th>\n      <td>32058</td>\n      <td>Zacatecas</td>\n      <td>2656</td>\n      <td>5.3388</td>\n      <td>1.2563</td>\n      <td>50.6674</td>\n      <td>20.5196</td>\n      <td>3.9949</td>\n      <td>4.3814</td>\n      <td>1.2887</td>\n      <td>...</td>\n      <td>2821</td>\n      <td>2855</td>\n      <td>32</td>\n      <td>25.364136</td>\n      <td>21.230514</td>\n      <td>11.442311</td>\n      <td>0.991437</td>\n      <td>1.000000</td>\n      <td>0.824074</td>\n      <td>0.909615</td>\n    </tr>\n  </tbody>\n</table>\n<p>2457 rows × 74 columns</p>\n</div>",
      "text/plain": "     cvegeo         nom_ent  pt_2015  an_2015  ne614_015  bi_2015  sins_15  \\\n0     01001  Aguascalientes   877190   2.0570     3.4786  25.6873  14.1560   \n1     01002  Aguascalientes    46464   4.4207     2.5959  41.8921   5.5355   \n2     01003  Aguascalientes    56048   4.7805     4.3906  49.1856   9.7524   \n3     01004  Aguascalientes    15577   4.3233     2.6265  33.0597   5.1165   \n4     01005  Aguascalientes   120405   3.2445     4.1297  33.7271  13.8341   \n...     ...             ...      ...      ...        ...      ...      ...   \n2452  32054       Zacatecas    19155   8.1332     3.6565  42.1699   8.8384   \n2453  32055       Zacatecas    30240   4.7985     3.4198  53.7212  13.5516   \n2454  32056       Zacatecas   146147   1.2432     2.1746  23.0304  14.0968   \n2455  32057       Zacatecas    19413   5.6122     2.5997  42.0488   9.0609   \n2456  32058       Zacatecas     2656   5.3388     1.2563  50.6674  20.5196   \n\n      vpt_2015  vns_2015  vna_2015  ...   pob01  pob2020  cve_ent  \\\n0       0.5478    0.5543    0.6627  ...  797010   961977        1   \n1       1.6779    5.6457    1.2979  ...   45492    50864        1   \n2       1.0577    0.7756    0.9519  ...   54136    60760        1   \n3       1.5629    2.8986    0.5968  ...   15042    16918        1   \n4       0.9201    1.0273    0.9443  ...   99590   130184        1   \n...        ...       ...       ...  ...     ...      ...      ...   \n2452    2.5438    8.9568    3.8478  ...   18490    20177       32   \n2453    0.9201    4.8484    1.7459  ...   29395    31804       32   \n2454    0.2485    1.2004    1.6826  ...  138176   155533       32   \n2455    1.1950    6.9448    3.0891  ...   16934    20285       32   \n2456    3.9949    4.3814    1.2887  ...    2821     2855       32   \n\n      pct_obesidad  pct_hipertension pct_diabetes  total_camas_publicos  \\\n0        31.486541         14.942242     7.495861              0.959461   \n1        32.282284         15.320425     7.953634              0.959461   \n2        40.004293         13.751906     9.172624              0.959461   \n3        32.596450         16.431493     7.383116              0.959461   \n4        34.731715         12.356755     6.745819              0.959461   \n...            ...               ...          ...                   ...   \n2452     31.075955         16.920279     9.895491              0.991437   \n2453     30.526273         21.746589    12.050064              0.991437   \n2454     36.822130         20.010453    11.814172              0.991437   \n2455     32.477646         15.941678     8.089966              0.991437   \n2456     25.364136         21.230514    11.442311              0.991437   \n\n      total_camas_privados  total_hospitales_publicos  \\\n0                 0.993091                   0.981481   \n1                 0.993091                   0.981481   \n2                 0.993091                   0.981481   \n3                 0.993091                   0.981481   \n4                 0.993091                   0.981481   \n...                    ...                        ...   \n2452              1.000000                   0.824074   \n2453              1.000000                   0.824074   \n2454              1.000000                   0.824074   \n2455              1.000000                   0.824074   \n2456              1.000000                   0.824074   \n\n      total_hospitales_privados  \n0                      0.965385  \n1                      0.965385  \n2                      0.965385  \n3                      0.965385  \n4                      0.965385  \n...                         ...  \n2452                   0.909615  \n2453                   0.909615  \n2454                   0.909615  \n2455                   0.909615  \n2456                   0.909615  \n\n[2457 rows x 74 columns]"
     },
     "execution_count": 4,
     "metadata": {},
     "output_type": "execute_result"
    }
   ],
   "source": [
    "reclasifica = ['total_camas_publicos', 'total_camas_privados', 'total_hospitales_publicos', 'total_hospitales_privados',\n",
    "               'consultori', 'consulto_1', 'farmacias', 'npnv']\n",
    "variables_municipales['consultori'] = variables_municipales['consultori'] / variables_municipales['pob2020']\n",
    "variables_municipales['consulto_1'] = variables_municipales['consulto_1'] / variables_municipales['pob2020'] \n",
    "variables_municipales['farmacias'] = variables_municipales['farmacias'] / variables_municipales['pob2020'] \n",
    "for columna in reclasifica:\n",
    "    variables_municipales = rescala_min_max(variables_municipales, columna)\n",
    "    variables_municipales[columna] = 1 - variables_municipales[columna]\n",
    "variables_municipales"
   ]
  },
  {
   "cell_type": "code",
   "execution_count": 5,
   "metadata": {},
   "outputs": [],
   "source": [
    "variables_municipales.drop(columns=\"cve_ent\").to_csv(\"datos/municipios/indicadores_reclasificados.csv\", index=False)"
   ]
  },
  {
   "cell_type": "markdown",
   "metadata": {},
   "source": [
    "## Selección de variables\n",
    "\n",
    "Aquí vmos a intentar hacer una mejor selección de variables a partir de los indicadores reclasificados"
   ]
  },
  {
   "cell_type": "code",
   "execution_count": 4,
   "metadata": {},
   "outputs": [
    {
     "data": {
      "text/plain": "Index(['cvegeo', 'nom_ent', 'pt_2015', 'an_2015', 'ne614_015', 'bi_2015',\n       'sins_15', 'vpt_2015', 'vns_2015', 'vna_2015', 'vnd_2015', 'vne_2015',\n       'vnl_2015', 'vnr_2015', 'irs_2015', 'grs_2015', 'lmex_2015',\n       'poblacion', 'pobreza', 'pobreza_pob', 'pobreza_e', 'pobreza_e_pob',\n       'pobreza_m', 'pobreza_m_pob', 'vul_car', 'vul_car_pob', 'vul_ing',\n       'vul_ing_pob', 'npnv', 'npnv_pob', 'ic_rezedu', 'ic_rezedu_pob',\n       'ic_asalud', 'ic_asalud_pob', 'ic_segsoc', 'ic_segsoc_pob', 'ic_cv',\n       'ic_cv_pob', 'ic_sbv', 'ic_sbv_pob', 'ic_ali', 'ic_ali_pob',\n       'carencias', 'carencias_pob', 'carencias3', 'carencias3_pob', 'plb',\n       'plb_pob', 'plbm', 'plbm_pob', 'pob_total', 'mayores_65', 'pob_menore',\n       'sin_derech', 'sin_dere_1', 'entidad_cv', 'consultori', 'consulto_1',\n       'farmacias', 'id', 'municipio_cvegeo', 'nom_mun', 'porc_carencia_salud',\n       'entidad_cvegeo', 'pob01', 'pob2020', 'pct_obesidad',\n       'pct_hipertension', 'pct_diabetes', 'total_camas_publicos',\n       'total_camas_privados', 'total_hospitales_publicos',\n       'total_hospitales_privados'],\n      dtype='object')"
     },
     "execution_count": 4,
     "metadata": {},
     "output_type": "execute_result"
    }
   ],
   "source": [
    "variables_municipales = pd.read_csv('datos/municipios/indicadores_reclasificados.csv', index_col=False,\n",
    "                                    dtype={'cvegeo': str, 'entidad_cv': str,\n",
    "                                            'municipio_cvegeo': str, 'entidad_cvegeo': str},\n",
    "                                    encoding='iso8859_2')\n",
    "variables_municipales.columns                                   "
   ]
  },
  {
   "cell_type": "code",
   "execution_count": null,
   "metadata": {},
   "outputs": [],
   "source": [
    "## Clasificación en dimensiones\n",
    "\n",
    "A partir del diccionario de datos vamos a construir uno nuevo con las variables que usamos. Este nuevo es el que tendrá la clasificación"
   ]
  },
  {
   "cell_type": "code",
   "execution_count": null,
   "metadata": {},
   "outputs": [
    {
     "data": {
      "text/html": "<div>\n<style scoped>\n    .dataframe tbody tr th:only-of-type {\n        vertical-align: middle;\n    }\n\n    .dataframe tbody tr th {\n        vertical-align: top;\n    }\n\n    .dataframe thead th {\n        text-align: right;\n    }\n</style>\n<table border=\"1\" class=\"dataframe\">\n  <thead>\n    <tr style=\"text-align: right;\">\n      <th></th>\n      <th>campo</th>\n      <th>descriptor</th>\n    </tr>\n  </thead>\n  <tbody>\n    <tr>\n      <th>0</th>\n      <td>cvegeo</td>\n      <td>Clave geografica</td>\n    </tr>\n    <tr>\n      <th>1</th>\n      <td>pt_2000</td>\n      <td>población total,2000</td>\n    </tr>\n    <tr>\n      <th>2</th>\n      <td>pt_2005</td>\n      <td>población total,2005</td>\n    </tr>\n    <tr>\n      <th>3</th>\n      <td>pt_2010</td>\n      <td>población total,2010</td>\n    </tr>\n    <tr>\n      <th>4</th>\n      <td>pt_2015</td>\n      <td>población total,2015</td>\n    </tr>\n    <tr>\n      <th>...</th>\n      <td>...</td>\n      <td>...</td>\n    </tr>\n    <tr>\n      <th>122</th>\n      <td>tasa_pulmonares</td>\n      <td>Enfermedades del sistema respiratorio, Influen...</td>\n    </tr>\n    <tr>\n      <th>123</th>\n      <td>total_camas</td>\n      <td>Unidades económicas dedicadas principalmente a...</td>\n    </tr>\n    <tr>\n      <th>124</th>\n      <td>total_camas_publicos</td>\n      <td>Unidades económicas dedicadas principalmente a...</td>\n    </tr>\n    <tr>\n      <th>125</th>\n      <td>total_camas_privados</td>\n      <td>Unidades económicas dedicadas principalmente a...</td>\n    </tr>\n    <tr>\n      <th>126</th>\n      <td>total_hospitales_publicos</td>\n      <td>Unidades económicas dedicadas principalmente a...</td>\n    </tr>\n  </tbody>\n</table>\n<p>127 rows × 2 columns</p>\n</div>",
      "text/plain": "                         campo  \\\n0                       cvegeo   \n1                      pt_2000   \n2                      pt_2005   \n3                      pt_2010   \n4                      pt_2015   \n..                         ...   \n122            tasa_pulmonares   \n123                total_camas   \n124       total_camas_publicos   \n125       total_camas_privados   \n126  total_hospitales_publicos   \n\n                                            descriptor  \n0                                    Clave geografica   \n1                                 población total,2000  \n2                                 población total,2005  \n3                                 población total,2010  \n4                                 población total,2015  \n..                                                 ...  \n122  Enfermedades del sistema respiratorio, Influen...  \n123  Unidades económicas dedicadas principalmente a...  \n124  Unidades económicas dedicadas principalmente a...  \n125  Unidades económicas dedicadas principalmente a...  \n126  Unidades económicas dedicadas principalmente a...  \n\n[127 rows x 2 columns]"
     },
     "execution_count": null,
     "metadata": {},
     "output_type": "execute_result"
    }
   ],
   "source": [
    "diccionario = pd.read_csv(\"datos/diccionario_vulnerabilidad.csv\")\n",
    "diccionario = diccionario.replace({'total_de_camas_privados':'total_camas_privados'})\n",
    "diccionario"
   ]
  },
  {
   "cell_type": "code",
   "execution_count": null,
   "metadata": {},
   "outputs": [
    {
     "data": {
      "text/html": "<div>\n<style scoped>\n    .dataframe tbody tr th:only-of-type {\n        vertical-align: middle;\n    }\n\n    .dataframe tbody tr th {\n        vertical-align: top;\n    }\n\n    .dataframe thead th {\n        text-align: right;\n    }\n</style>\n<table border=\"1\" class=\"dataframe\">\n  <thead>\n    <tr style=\"text-align: right;\">\n      <th></th>\n      <th>campo</th>\n    </tr>\n  </thead>\n  <tbody>\n    <tr>\n      <th>0</th>\n      <td>cvegeo</td>\n    </tr>\n    <tr>\n      <th>1</th>\n      <td>nom_ent</td>\n    </tr>\n    <tr>\n      <th>2</th>\n      <td>pt_2015</td>\n    </tr>\n    <tr>\n      <th>3</th>\n      <td>an_2015</td>\n    </tr>\n    <tr>\n      <th>4</th>\n      <td>ne614_015</td>\n    </tr>\n    <tr>\n      <th>...</th>\n      <td>...</td>\n    </tr>\n    <tr>\n      <th>69</th>\n      <td>pct_diabetes</td>\n    </tr>\n    <tr>\n      <th>70</th>\n      <td>total_camas_publicos</td>\n    </tr>\n    <tr>\n      <th>71</th>\n      <td>total_camas_privados</td>\n    </tr>\n    <tr>\n      <th>72</th>\n      <td>total_hospitales_publicos</td>\n    </tr>\n    <tr>\n      <th>73</th>\n      <td>total_hospitales_privados</td>\n    </tr>\n  </tbody>\n</table>\n<p>74 rows × 1 columns</p>\n</div>",
      "text/plain": "                        campo\n0                      cvegeo\n1                     nom_ent\n2                     pt_2015\n3                     an_2015\n4                   ne614_015\n..                        ...\n69               pct_diabetes\n70       total_camas_publicos\n71       total_camas_privados\n72  total_hospitales_publicos\n73  total_hospitales_privados\n\n[74 rows x 1 columns]"
     },
     "execution_count": null,
     "metadata": {},
     "output_type": "execute_result"
    }
   ],
   "source": [
    "usadas = pd.DataFrame({'campo': variables_municipales.columns})\n",
    "usadas"
   ]
  },
  {
   "cell_type": "code",
   "execution_count": null,
   "metadata": {},
   "outputs": [
    {
     "data": {
      "text/html": "<div>\n<style scoped>\n    .dataframe tbody tr th:only-of-type {\n        vertical-align: middle;\n    }\n\n    .dataframe tbody tr th {\n        vertical-align: top;\n    }\n\n    .dataframe thead th {\n        text-align: right;\n    }\n</style>\n<table border=\"1\" class=\"dataframe\">\n  <thead>\n    <tr style=\"text-align: right;\">\n      <th></th>\n      <th>campo</th>\n      <th>descriptor</th>\n    </tr>\n  </thead>\n  <tbody>\n    <tr>\n      <th>0</th>\n      <td>cvegeo</td>\n      <td>Clave geografica</td>\n    </tr>\n    <tr>\n      <th>1</th>\n      <td>pt_2015</td>\n      <td>población total,2015</td>\n    </tr>\n    <tr>\n      <th>2</th>\n      <td>an_2015</td>\n      <td>15 años y más analfabetas,2015</td>\n    </tr>\n    <tr>\n      <th>3</th>\n      <td>ne614_015</td>\n      <td>6 a 14 años que no asisten a la escuela,2015</td>\n    </tr>\n    <tr>\n      <th>4</th>\n      <td>bi_2015</td>\n      <td>15 años y más con educación básica incompleta,...</td>\n    </tr>\n    <tr>\n      <th>5</th>\n      <td>sins_15</td>\n      <td>Porcentaje de Población  sin derechohabiencia ...</td>\n    </tr>\n    <tr>\n      <th>6</th>\n      <td>vpt_2015</td>\n      <td>Viviendas piso  de tierra,2015</td>\n    </tr>\n    <tr>\n      <th>7</th>\n      <td>vns_2015</td>\n      <td>Viviendas sin sanitario,2015</td>\n    </tr>\n    <tr>\n      <th>8</th>\n      <td>vna_2015</td>\n      <td>Viviendas sin Agua,2015</td>\n    </tr>\n    <tr>\n      <th>9</th>\n      <td>vnd_2015</td>\n      <td>Viviendas que no disponen de drenaje,2015</td>\n    </tr>\n    <tr>\n      <th>10</th>\n      <td>vne_2015</td>\n      <td>Viviendas que no disponen de energía eléctrica...</td>\n    </tr>\n    <tr>\n      <th>11</th>\n      <td>vnl_2015</td>\n      <td>Viviendas que no disponen de lavadora,2015</td>\n    </tr>\n    <tr>\n      <th>12</th>\n      <td>vnr_2015</td>\n      <td>Viviendas que no disponen de refrigerador,2015</td>\n    </tr>\n    <tr>\n      <th>13</th>\n      <td>irs_2015</td>\n      <td>Índice de rezago social,2015</td>\n    </tr>\n    <tr>\n      <th>14</th>\n      <td>grs_2015</td>\n      <td>Grado de rezago social,2015</td>\n    </tr>\n    <tr>\n      <th>15</th>\n      <td>lmex_2015</td>\n      <td>Lugar que ocupa en el contexto nacional,2015</td>\n    </tr>\n    <tr>\n      <th>16</th>\n      <td>pobreza</td>\n      <td>% Población en situación de pobreza</td>\n    </tr>\n    <tr>\n      <th>17</th>\n      <td>pobreza_pob</td>\n      <td>Población en situación de pobreza</td>\n    </tr>\n    <tr>\n      <th>18</th>\n      <td>pobreza_e</td>\n      <td>%Población en situación de pobreza extrema</td>\n    </tr>\n    <tr>\n      <th>19</th>\n      <td>pobreza_e_pob</td>\n      <td>Población en situación de pobreza extrema</td>\n    </tr>\n    <tr>\n      <th>20</th>\n      <td>pobreza_m</td>\n      <td>%Población en situación de pobreza moderada</td>\n    </tr>\n    <tr>\n      <th>21</th>\n      <td>pobreza_m_pob</td>\n      <td>Población en situación de pobreza moderada</td>\n    </tr>\n    <tr>\n      <th>22</th>\n      <td>vul_car</td>\n      <td>%Población vulnerable por carencias sociales</td>\n    </tr>\n    <tr>\n      <th>23</th>\n      <td>vul_car_pob</td>\n      <td>Población vulnerable por carencias sociales</td>\n    </tr>\n    <tr>\n      <th>24</th>\n      <td>vul_ing</td>\n      <td>%Población vulnerable por ingresos</td>\n    </tr>\n    <tr>\n      <th>25</th>\n      <td>vul_ing_pob</td>\n      <td>Población vulnerable por ingresos</td>\n    </tr>\n    <tr>\n      <th>26</th>\n      <td>npnv</td>\n      <td>%Población no pobre y no vulnerable</td>\n    </tr>\n    <tr>\n      <th>27</th>\n      <td>npnv_pob</td>\n      <td>Población no pobre y no vulnerable</td>\n    </tr>\n    <tr>\n      <th>28</th>\n      <td>ic_rezedu</td>\n      <td>%Indicadores de carencia social  Rezago educativo</td>\n    </tr>\n    <tr>\n      <th>29</th>\n      <td>ic_rezedu_pob</td>\n      <td>Indicadores de carencia social  Rezago educativo</td>\n    </tr>\n    <tr>\n      <th>30</th>\n      <td>ic_asalud</td>\n      <td>%Carencia por acceso a los servicios de salud</td>\n    </tr>\n    <tr>\n      <th>31</th>\n      <td>ic_asalud_pob</td>\n      <td>Carencia por acceso a los servicios de salud</td>\n    </tr>\n    <tr>\n      <th>32</th>\n      <td>ic_segsoc</td>\n      <td>%Carencia por acceso a la seguridad social</td>\n    </tr>\n    <tr>\n      <th>33</th>\n      <td>ic_segsoc_pob</td>\n      <td>Carencia por acceso a la seguridad social</td>\n    </tr>\n    <tr>\n      <th>34</th>\n      <td>ic_cv</td>\n      <td>%Carencia por calidad y espacios en la vivienda</td>\n    </tr>\n    <tr>\n      <th>35</th>\n      <td>ic_cv_pob</td>\n      <td>Carencia por calidad y espacios en la vivienda</td>\n    </tr>\n    <tr>\n      <th>36</th>\n      <td>ic_sbv</td>\n      <td>%Carencia por acceso a los servicios básicos e...</td>\n    </tr>\n    <tr>\n      <th>37</th>\n      <td>ic_sbv_pob</td>\n      <td>Carencia por acceso a los servicios básicos en...</td>\n    </tr>\n    <tr>\n      <th>38</th>\n      <td>ic_ali</td>\n      <td>%Carencia por acceso a la alimentación</td>\n    </tr>\n    <tr>\n      <th>39</th>\n      <td>ic_ali_pob</td>\n      <td>Carencia por acceso a la alimentación</td>\n    </tr>\n    <tr>\n      <th>40</th>\n      <td>carencias</td>\n      <td>%Población con al menos una carencia social</td>\n    </tr>\n    <tr>\n      <th>41</th>\n      <td>carencias_pob</td>\n      <td>Población con al menos una carencia social</td>\n    </tr>\n    <tr>\n      <th>42</th>\n      <td>carencias3</td>\n      <td>%Población con al menos tres carencias sociales</td>\n    </tr>\n    <tr>\n      <th>43</th>\n      <td>carencias3_pob</td>\n      <td>Población con al menos tres carencias sociales</td>\n    </tr>\n    <tr>\n      <th>44</th>\n      <td>plb</td>\n      <td>%Población con igreso inferior a la línea de b...</td>\n    </tr>\n    <tr>\n      <th>45</th>\n      <td>plb_pob</td>\n      <td>Población con igreso inferior a la línea de bi...</td>\n    </tr>\n    <tr>\n      <th>46</th>\n      <td>plbm</td>\n      <td>%Población con ingreso inferior a la línea de ...</td>\n    </tr>\n    <tr>\n      <th>47</th>\n      <td>plbm_pob</td>\n      <td>Población con ingreso inferior a la línea de b...</td>\n    </tr>\n    <tr>\n      <th>48</th>\n      <td>consulto_1</td>\n      <td>Unidades económicas de dicadas principalmente ...</td>\n    </tr>\n    <tr>\n      <th>49</th>\n      <td>consultori</td>\n      <td>Unidades económicas de dicadas principalmente ...</td>\n    </tr>\n    <tr>\n      <th>50</th>\n      <td>farmacias</td>\n      <td>Unidades económicas dedicadas principalmente a...</td>\n    </tr>\n    <tr>\n      <th>51</th>\n      <td>pob01</td>\n      <td>NaN</td>\n    </tr>\n    <tr>\n      <th>52</th>\n      <td>pob_menore</td>\n      <td>Personas de 0 a 5 años de edad.</td>\n    </tr>\n    <tr>\n      <th>53</th>\n      <td>porc_carencia_salud</td>\n      <td>Se considera que una persona se encuentra en s...</td>\n    </tr>\n    <tr>\n      <th>54</th>\n      <td>sin_dere_1</td>\n      <td>Total de personas que tienen derecho a recibir...</td>\n    </tr>\n    <tr>\n      <th>55</th>\n      <td>sin_derech</td>\n      <td>Total de personas que no tienen derecho a reci...</td>\n    </tr>\n    <tr>\n      <th>56</th>\n      <td>total_camas_publicos</td>\n      <td>Unidades económicas dedicadas principalmente a...</td>\n    </tr>\n    <tr>\n      <th>57</th>\n      <td>total_camas_privados</td>\n      <td>Unidades económicas dedicadas principalmente a...</td>\n    </tr>\n    <tr>\n      <th>58</th>\n      <td>total_hospitales_publicos</td>\n      <td>Unidades económicas dedicadas principalmente a...</td>\n    </tr>\n  </tbody>\n</table>\n</div>",
      "text/plain": "                        campo  \\\n0                      cvegeo   \n1                     pt_2015   \n2                     an_2015   \n3                   ne614_015   \n4                     bi_2015   \n5                     sins_15   \n6                    vpt_2015   \n7                    vns_2015   \n8                    vna_2015   \n9                    vnd_2015   \n10                   vne_2015   \n11                   vnl_2015   \n12                   vnr_2015   \n13                   irs_2015   \n14                   grs_2015   \n15                  lmex_2015   \n16                    pobreza   \n17                pobreza_pob   \n18                  pobreza_e   \n19              pobreza_e_pob   \n20                  pobreza_m   \n21              pobreza_m_pob   \n22                    vul_car   \n23                vul_car_pob   \n24                    vul_ing   \n25                vul_ing_pob   \n26                       npnv   \n27                   npnv_pob   \n28                  ic_rezedu   \n29              ic_rezedu_pob   \n30                  ic_asalud   \n31              ic_asalud_pob   \n32                  ic_segsoc   \n33              ic_segsoc_pob   \n34                      ic_cv   \n35                  ic_cv_pob   \n36                     ic_sbv   \n37                 ic_sbv_pob   \n38                     ic_ali   \n39                 ic_ali_pob   \n40                  carencias   \n41              carencias_pob   \n42                 carencias3   \n43             carencias3_pob   \n44                        plb   \n45                    plb_pob   \n46                       plbm   \n47                   plbm_pob   \n48                 consulto_1   \n49                 consultori   \n50                  farmacias   \n51                      pob01   \n52                 pob_menore   \n53        porc_carencia_salud   \n54                 sin_dere_1   \n55                 sin_derech   \n56       total_camas_publicos   \n57       total_camas_privados   \n58  total_hospitales_publicos   \n\n                                           descriptor  \n0                                   Clave geografica   \n1                                población total,2015  \n2                      15 años y más analfabetas,2015  \n3        6 a 14 años que no asisten a la escuela,2015  \n4   15 años y más con educación básica incompleta,...  \n5   Porcentaje de Población  sin derechohabiencia ...  \n6                      Viviendas piso  de tierra,2015  \n7                        Viviendas sin sanitario,2015  \n8                             Viviendas sin Agua,2015  \n9           Viviendas que no disponen de drenaje,2015  \n10  Viviendas que no disponen de energía eléctrica...  \n11         Viviendas que no disponen de lavadora,2015  \n12     Viviendas que no disponen de refrigerador,2015  \n13                       Índice de rezago social,2015  \n14                        Grado de rezago social,2015  \n15       Lugar que ocupa en el contexto nacional,2015  \n16                % Población en situación de pobreza  \n17                  Población en situación de pobreza  \n18         %Población en situación de pobreza extrema  \n19          Población en situación de pobreza extrema  \n20        %Población en situación de pobreza moderada  \n21         Población en situación de pobreza moderada  \n22       %Población vulnerable por carencias sociales  \n23        Población vulnerable por carencias sociales  \n24                 %Población vulnerable por ingresos  \n25                  Población vulnerable por ingresos  \n26                %Población no pobre y no vulnerable  \n27                 Población no pobre y no vulnerable  \n28  %Indicadores de carencia social  Rezago educativo  \n29   Indicadores de carencia social  Rezago educativo  \n30      %Carencia por acceso a los servicios de salud  \n31       Carencia por acceso a los servicios de salud  \n32         %Carencia por acceso a la seguridad social  \n33          Carencia por acceso a la seguridad social  \n34    %Carencia por calidad y espacios en la vivienda  \n35     Carencia por calidad y espacios en la vivienda  \n36  %Carencia por acceso a los servicios básicos e...  \n37  Carencia por acceso a los servicios básicos en...  \n38             %Carencia por acceso a la alimentación  \n39              Carencia por acceso a la alimentación  \n40        %Población con al menos una carencia social  \n41         Población con al menos una carencia social  \n42    %Población con al menos tres carencias sociales  \n43     Población con al menos tres carencias sociales  \n44  %Población con igreso inferior a la línea de b...  \n45  Población con igreso inferior a la línea de bi...  \n46  %Población con ingreso inferior a la línea de ...  \n47  Población con ingreso inferior a la línea de b...  \n48  Unidades económicas de dicadas principalmente ...  \n49  Unidades económicas de dicadas principalmente ...  \n50  Unidades económicas dedicadas principalmente a...  \n51                                                NaN  \n52                    Personas de 0 a 5 años de edad.  \n53  Se considera que una persona se encuentra en s...  \n54  Total de personas que tienen derecho a recibir...  \n55  Total de personas que no tienen derecho a reci...  \n56  Unidades económicas dedicadas principalmente a...  \n57  Unidades económicas dedicadas principalmente a...  \n58  Unidades económicas dedicadas principalmente a...  "
     },
     "execution_count": null,
     "metadata": {},
     "output_type": "execute_result"
    }
   ],
   "source": [
    "diccionario_usadas = diccionario.merge(usadas, on='campo')\n",
    "diccionario_usadas"
   ]
  },
  {
   "cell_type": "code",
   "execution_count": null,
   "metadata": {},
   "outputs": [],
   "source": [
    "diccionario_usadas.to_csv(\"datos/diccionario_variables_usadas.csv\", index=False)"
   ]
  }
 ],
 "metadata": {
  "kernelspec": {
   "display_name": "Python 3",
   "language": "python",
   "name": "python3"
  },
  "language_info": {
   "codemirror_mode": {
    "name": "ipython",
    "version": 3
   },
   "file_extension": ".py",
   "mimetype": "text/x-python",
   "name": "python",
   "nbconvert_exporter": "python",
   "pygments_lexer": "ipython3",
   "version": "3.7.10"
  }
 },
 "nbformat": 4,
 "nbformat_minor": 2
}